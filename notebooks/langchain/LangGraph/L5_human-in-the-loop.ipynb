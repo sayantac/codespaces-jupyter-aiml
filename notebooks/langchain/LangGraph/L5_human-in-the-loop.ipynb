{
 "cells": [
  {
   "cell_type": "markdown",
   "id": "8ad976db-fb87-4a92-b0d2-06defc098339",
   "metadata": {},
   "source": [
    "# Human in the Loop"
   ]
  },
  {
   "cell_type": "markdown",
   "id": "91d756c3-9c97-4155-9b56-8ecfed5f1876",
   "metadata": {},
   "source": [
    "Note: This notebook is running in a later version of langgraph that it was filmed with. The later version has a couple of key additions:\n",
    "- Additional state information is stored to memory and displayed when using `get_state()` or `get_state_history()`.\n",
    "- State is additionally stored every state transition while previously it was stored at an interrupt or at the end.\n",
    "These change the command output slightly, but are a useful addtion to the information available."
   ]
  },
  {
   "cell_type": "code",
   "execution_count": 1,
   "id": "f5762271-8736-4e94-9444-8c92bd0e8074",
   "metadata": {
    "height": 63
   },
   "outputs": [],
   "source": [
    "from dotenv import load_dotenv\n",
    "\n",
    "_ = load_dotenv()"
   ]
  },
  {
   "cell_type": "code",
   "execution_count": 2,
   "id": "d0168aee-bce9-4d60-b827-f86a88187e31",
   "metadata": {
    "height": 182
   },
   "outputs": [],
   "source": [
    "from langgraph.graph import StateGraph, END\n",
    "from typing import TypedDict, Annotated\n",
    "import operator\n",
    "from langchain_core.messages import AnyMessage, SystemMessage, HumanMessage, ToolMessage\n",
    "from langchain_openai import ChatOpenAI\n",
    "from langchain_community.tools.tavily_search import TavilySearchResults\n",
    "from langgraph.checkpoint.sqlite import SqliteSaver\n",
    "\n",
    "memory = SqliteSaver.from_conn_string(\":memory:\")"
   ]
  },
  {
   "cell_type": "code",
   "execution_count": 3,
   "id": "2589c5b6-6cc2-4594-9a17-dccdcf676054",
   "metadata": {
    "height": 573
   },
   "outputs": [],
   "source": [
    "from uuid import uuid4\n",
    "from langchain_core.messages import AnyMessage, SystemMessage, HumanMessage\n",
    "\n",
    "\"\"\"\n",
    "In previous examples we've annotated the `messages` state key\n",
    "with the default `operator.add` or `+` reducer, which always\n",
    "appends new messages to the end of the existing messages array.\n",
    "\n",
    "Now, to support replacing existing messages, we annotate the\n",
    "`messages` key with a customer reducer function, which replaces\n",
    "messages with the same `id`, and appends them otherwise.\n",
    "\"\"\"\n",
    "def reduce_messages(left: list[AnyMessage], right: list[AnyMessage]) -> list[AnyMessage]:\n",
    "    # assign ids to messages that don't have them\n",
    "    for message in right:\n",
    "        if not message.id:\n",
    "            message.id = str(uuid4())\n",
    "    # merge the new messages with the existing messages\n",
    "    merged = left.copy()\n",
    "    for message in right:\n",
    "        for i, existing in enumerate(merged):\n",
    "            # replace any existing messages with the same id\n",
    "            if existing.id == message.id:\n",
    "                merged[i] = message\n",
    "                break\n",
    "        else:\n",
    "            # append any new messages to the end\n",
    "            merged.append(message)\n",
    "    return merged\n",
    "\n",
    "class AgentState(TypedDict):\n",
    "    messages: Annotated[list[AnyMessage], reduce_messages]"
   ]
  },
  {
   "cell_type": "code",
   "execution_count": 4,
   "id": "a2ba84ec-c172-4de7-ac55-e3158a531b23",
   "metadata": {
    "height": 29
   },
   "outputs": [],
   "source": [
    "tool = TavilySearchResults(max_results=2)"
   ]
  },
  {
   "cell_type": "markdown",
   "id": "d58320dc-c542-4a3c-bcf1-088909f9b075",
   "metadata": {},
   "source": [
    "## Manual human approval"
   ]
  },
  {
   "cell_type": "code",
   "execution_count": 5,
   "id": "46a0e94e-d015-4106-b439-dbcd2fcb8bb0",
   "metadata": {
    "height": 658
   },
   "outputs": [],
   "source": [
    "class Agent:\n",
    "    def __init__(self, model, tools, system=\"\", checkpointer=None):\n",
    "        self.system = system\n",
    "        graph = StateGraph(AgentState)\n",
    "        graph.add_node(\"llm\", self.call_openai)\n",
    "        graph.add_node(\"action\", self.take_action)\n",
    "        graph.add_conditional_edges(\"llm\", self.exists_action, {True: \"action\", False: END})\n",
    "        graph.add_edge(\"action\", \"llm\")\n",
    "        graph.set_entry_point(\"llm\")\n",
    "        self.graph = graph.compile(\n",
    "            checkpointer=checkpointer,\n",
    "            interrupt_before=[\"action\"]\n",
    "        )\n",
    "        self.tools = {t.name: t for t in tools}\n",
    "        self.model = model.bind_tools(tools)\n",
    "\n",
    "    def call_openai(self, state: AgentState):\n",
    "        messages = state['messages']\n",
    "        if self.system:\n",
    "            messages = [SystemMessage(content=self.system)] + messages\n",
    "        message = self.model.invoke(messages)\n",
    "        return {'messages': [message]}\n",
    "\n",
    "    def exists_action(self, state: AgentState):\n",
    "        print(state)\n",
    "        result = state['messages'][-1]\n",
    "        return len(result.tool_calls) > 0\n",
    "\n",
    "    def take_action(self, state: AgentState):\n",
    "        tool_calls = state['messages'][-1].tool_calls\n",
    "        results = []\n",
    "        for t in tool_calls:\n",
    "            print(f\"Calling: {t}\")\n",
    "            result = self.tools[t['name']].invoke(t['args'])\n",
    "            results.append(ToolMessage(tool_call_id=t['id'], name=t['name'], content=str(result)))\n",
    "        print(\"Back to the model!\")\n",
    "        return {'messages': results}"
   ]
  },
  {
   "cell_type": "code",
   "execution_count": 6,
   "id": "10084a02-2928-4945-9f7c-ad3f5b33caf7",
   "metadata": {
    "height": 148
   },
   "outputs": [],
   "source": [
    "prompt = \"\"\"You are a smart research assistant. Use the search engine to look up information. \\\n",
    "You are allowed to make multiple calls (either together or in sequence). \\\n",
    "Only look up information when you are sure of what you want. \\\n",
    "If you need to look up some information before asking a follow up question, you are allowed to do that!\n",
    "\"\"\"\n",
    "model = ChatOpenAI(model=\"gpt-3.5-turbo\")\n",
    "abot = Agent(model, [tool], system=prompt, checkpointer=memory)"
   ]
  },
  {
   "cell_type": "code",
   "execution_count": 7,
   "id": "714d1205-f8fc-4912-b148-2a45da99219c",
   "metadata": {
    "height": 114
   },
   "outputs": [
    {
     "name": "stdout",
     "output_type": "stream",
     "text": [
      "{'messages': [HumanMessage(content='Whats the weather in SF?', id='cf520af7-98b0-40ba-9d29-66e014b2d542'), AIMessage(content='', additional_kwargs={'tool_calls': [{'id': 'call_AkvNzBMsgYzotNxO4EdY6HBs', 'function': {'arguments': '{\"query\":\"current weather in San Francisco\"}', 'name': 'tavily_search_results_json'}, 'type': 'function'}]}, response_metadata={'token_usage': {'completion_tokens': 22, 'prompt_tokens': 152, 'total_tokens': 174}, 'model_name': 'gpt-3.5-turbo', 'system_fingerprint': None, 'finish_reason': 'tool_calls', 'logprobs': None}, id='run-0ce860af-a85c-47d7-9e38-13845818d514-0', tool_calls=[{'name': 'tavily_search_results_json', 'args': {'query': 'current weather in San Francisco'}, 'id': 'call_AkvNzBMsgYzotNxO4EdY6HBs'}], usage_metadata={'input_tokens': 152, 'output_tokens': 22, 'total_tokens': 174})]}\n",
      "{'messages': [AIMessage(content='', additional_kwargs={'tool_calls': [{'id': 'call_AkvNzBMsgYzotNxO4EdY6HBs', 'function': {'arguments': '{\"query\":\"current weather in San Francisco\"}', 'name': 'tavily_search_results_json'}, 'type': 'function'}]}, response_metadata={'token_usage': {'completion_tokens': 22, 'prompt_tokens': 152, 'total_tokens': 174}, 'model_name': 'gpt-3.5-turbo', 'system_fingerprint': None, 'finish_reason': 'tool_calls', 'logprobs': None}, id='run-0ce860af-a85c-47d7-9e38-13845818d514-0', tool_calls=[{'name': 'tavily_search_results_json', 'args': {'query': 'current weather in San Francisco'}, 'id': 'call_AkvNzBMsgYzotNxO4EdY6HBs'}], usage_metadata={'input_tokens': 152, 'output_tokens': 22, 'total_tokens': 174})]}\n"
     ]
    }
   ],
   "source": [
    "messages = [HumanMessage(content=\"Whats the weather in SF?\")]\n",
    "thread = {\"configurable\": {\"thread_id\": \"1\"}}\n",
    "for event in abot.graph.stream({\"messages\": messages}, thread):\n",
    "    for v in event.values():\n",
    "        print(v)"
   ]
  },
  {
   "cell_type": "code",
   "execution_count": 8,
   "id": "83588e70-254f-4f83-a510-c8ae81e729b0",
   "metadata": {
    "height": 29
   },
   "outputs": [
    {
     "data": {
      "text/plain": [
       "StateSnapshot(values={'messages': [HumanMessage(content='Whats the weather in SF?', id='cf520af7-98b0-40ba-9d29-66e014b2d542'), AIMessage(content='', additional_kwargs={'tool_calls': [{'id': 'call_AkvNzBMsgYzotNxO4EdY6HBs', 'function': {'arguments': '{\"query\":\"current weather in San Francisco\"}', 'name': 'tavily_search_results_json'}, 'type': 'function'}]}, response_metadata={'token_usage': {'completion_tokens': 22, 'prompt_tokens': 152, 'total_tokens': 174}, 'model_name': 'gpt-3.5-turbo', 'system_fingerprint': None, 'finish_reason': 'tool_calls', 'logprobs': None}, id='run-0ce860af-a85c-47d7-9e38-13845818d514-0', tool_calls=[{'name': 'tavily_search_results_json', 'args': {'query': 'current weather in San Francisco'}, 'id': 'call_AkvNzBMsgYzotNxO4EdY6HBs'}], usage_metadata={'input_tokens': 152, 'output_tokens': 22, 'total_tokens': 174})]}, next=('action',), config={'configurable': {'thread_id': '1', 'thread_ts': '1ef38614-18ca-60ea-8001-edc31af58b13'}}, metadata={'source': 'loop', 'step': 1, 'writes': {'llm': {'messages': [AIMessage(content='', additional_kwargs={'tool_calls': [{'id': 'call_AkvNzBMsgYzotNxO4EdY6HBs', 'function': {'arguments': '{\"query\":\"current weather in San Francisco\"}', 'name': 'tavily_search_results_json'}, 'type': 'function'}]}, response_metadata={'token_usage': {'completion_tokens': 22, 'prompt_tokens': 152, 'total_tokens': 174}, 'model_name': 'gpt-3.5-turbo', 'system_fingerprint': None, 'finish_reason': 'tool_calls', 'logprobs': None}, id='run-0ce860af-a85c-47d7-9e38-13845818d514-0', tool_calls=[{'name': 'tavily_search_results_json', 'args': {'query': 'current weather in San Francisco'}, 'id': 'call_AkvNzBMsgYzotNxO4EdY6HBs'}], usage_metadata={'input_tokens': 152, 'output_tokens': 22, 'total_tokens': 174})]}}}, created_at='2024-07-02T10:53:03.449316+00:00', parent_config={'configurable': {'thread_id': '1', 'thread_ts': '1ef38614-07ed-6c5f-8000-df638249eef9'}})"
      ]
     },
     "execution_count": 8,
     "metadata": {},
     "output_type": "execute_result"
    }
   ],
   "source": [
    "abot.graph.get_state(thread)"
   ]
  },
  {
   "cell_type": "code",
   "execution_count": 9,
   "id": "6cb3ef4c-58b3-401b-b104-0d51e553d982",
   "metadata": {
    "height": 29
   },
   "outputs": [
    {
     "data": {
      "text/plain": [
       "('action',)"
      ]
     },
     "execution_count": 9,
     "metadata": {},
     "output_type": "execute_result"
    }
   ],
   "source": [
    "abot.graph.get_state(thread).next"
   ]
  },
  {
   "cell_type": "markdown",
   "id": "f1f404d5-a3be-42c1-9990-b1e1ee011163",
   "metadata": {},
   "source": [
    "### continue after interrupt"
   ]
  },
  {
   "cell_type": "code",
   "execution_count": 10,
   "id": "dc3293b7-a50c-43c8-a022-8975e1e444b8",
   "metadata": {
    "height": 80
   },
   "outputs": [
    {
     "name": "stdout",
     "output_type": "stream",
     "text": [
      "Calling: {'name': 'tavily_search_results_json', 'args': {'query': 'current weather in San Francisco'}, 'id': 'call_AkvNzBMsgYzotNxO4EdY6HBs'}\n",
      "Back to the model!\n",
      "{'messages': [ToolMessage(content='[{\\'url\\': \\'https://www.wunderground.com/hourly/us/ca/san-francisco/date/2024-07-02\\', \\'content\\': \\'San Francisco Weather Forecasts. Weather Underground provides local & long-range weather forecasts, weatherreports, maps & tropical weather conditions for the San Francisco area. ... Tuesday 07/02 ...\\'}, {\\'url\\': \\'https://www.weatherapi.com/\\', \\'content\\': \"{\\'location\\': {\\'name\\': \\'San Francisco\\', \\'region\\': \\'California\\', \\'country\\': \\'United States of America\\', \\'lat\\': 37.78, \\'lon\\': -122.42, \\'tz_id\\': \\'America/Los_Angeles\\', \\'localtime_epoch\\': 1719917560, \\'localtime\\': \\'2024-07-02 3:52\\'}, \\'current\\': {\\'last_updated_epoch\\': 1719917100, \\'last_updated\\': \\'2024-07-02 03:45\\', \\'temp_c\\': 16.7, \\'temp_f\\': 62.1, \\'is_day\\': 0, \\'condition\\': {\\'text\\': \\'Clear\\', \\'icon\\': \\'//cdn.weatherapi.com/weather/64x64/night/113.png\\', \\'code\\': 1000}, \\'wind_mph\\': 2.2, \\'wind_kph\\': 3.6, \\'wind_degree\\': 10, \\'wind_dir\\': \\'N\\', \\'pressure_mb\\': 1010.0, \\'pressure_in\\': 29.81, \\'precip_mm\\': 0.0, \\'precip_in\\': 0.0, \\'humidity\\': 86, \\'cloud\\': 0, \\'feelslike_c\\': 16.7, \\'feelslike_f\\': 62.1, \\'windchill_c\\': 13.0, \\'windchill_f\\': 55.4, \\'heatindex_c\\': 13.4, \\'heatindex_f\\': 56.0, \\'dewpoint_c\\': 10.6, \\'dewpoint_f\\': 51.1, \\'vis_km\\': 16.0, \\'vis_miles\\': 9.0, \\'uv\\': 1.0, \\'gust_mph\\': 10.3, \\'gust_kph\\': 16.6}}\"}]', name='tavily_search_results_json', tool_call_id='call_AkvNzBMsgYzotNxO4EdY6HBs')]}\n",
      "{'messages': [HumanMessage(content='Whats the weather in SF?', id='cf520af7-98b0-40ba-9d29-66e014b2d542'), AIMessage(content='', additional_kwargs={'tool_calls': [{'id': 'call_AkvNzBMsgYzotNxO4EdY6HBs', 'function': {'arguments': '{\"query\":\"current weather in San Francisco\"}', 'name': 'tavily_search_results_json'}, 'type': 'function'}]}, response_metadata={'token_usage': {'completion_tokens': 22, 'prompt_tokens': 152, 'total_tokens': 174}, 'model_name': 'gpt-3.5-turbo', 'system_fingerprint': None, 'finish_reason': 'tool_calls', 'logprobs': None}, id='run-0ce860af-a85c-47d7-9e38-13845818d514-0', tool_calls=[{'name': 'tavily_search_results_json', 'args': {'query': 'current weather in San Francisco'}, 'id': 'call_AkvNzBMsgYzotNxO4EdY6HBs'}], usage_metadata={'input_tokens': 152, 'output_tokens': 22, 'total_tokens': 174}), ToolMessage(content='[{\\'url\\': \\'https://www.wunderground.com/hourly/us/ca/san-francisco/date/2024-07-02\\', \\'content\\': \\'San Francisco Weather Forecasts. Weather Underground provides local & long-range weather forecasts, weatherreports, maps & tropical weather conditions for the San Francisco area. ... Tuesday 07/02 ...\\'}, {\\'url\\': \\'https://www.weatherapi.com/\\', \\'content\\': \"{\\'location\\': {\\'name\\': \\'San Francisco\\', \\'region\\': \\'California\\', \\'country\\': \\'United States of America\\', \\'lat\\': 37.78, \\'lon\\': -122.42, \\'tz_id\\': \\'America/Los_Angeles\\', \\'localtime_epoch\\': 1719917560, \\'localtime\\': \\'2024-07-02 3:52\\'}, \\'current\\': {\\'last_updated_epoch\\': 1719917100, \\'last_updated\\': \\'2024-07-02 03:45\\', \\'temp_c\\': 16.7, \\'temp_f\\': 62.1, \\'is_day\\': 0, \\'condition\\': {\\'text\\': \\'Clear\\', \\'icon\\': \\'//cdn.weatherapi.com/weather/64x64/night/113.png\\', \\'code\\': 1000}, \\'wind_mph\\': 2.2, \\'wind_kph\\': 3.6, \\'wind_degree\\': 10, \\'wind_dir\\': \\'N\\', \\'pressure_mb\\': 1010.0, \\'pressure_in\\': 29.81, \\'precip_mm\\': 0.0, \\'precip_in\\': 0.0, \\'humidity\\': 86, \\'cloud\\': 0, \\'feelslike_c\\': 16.7, \\'feelslike_f\\': 62.1, \\'windchill_c\\': 13.0, \\'windchill_f\\': 55.4, \\'heatindex_c\\': 13.4, \\'heatindex_f\\': 56.0, \\'dewpoint_c\\': 10.6, \\'dewpoint_f\\': 51.1, \\'vis_km\\': 16.0, \\'vis_miles\\': 9.0, \\'uv\\': 1.0, \\'gust_mph\\': 10.3, \\'gust_kph\\': 16.6}}\"}]', name='tavily_search_results_json', id='af83d79d-9e8e-40e6-ba3c-0c3856599de2', tool_call_id='call_AkvNzBMsgYzotNxO4EdY6HBs'), AIMessage(content='The current weather in San Francisco is clear with a temperature of 62.1°F (16.7°C). The wind speed is 3.6 km/h coming from the North, and the humidity is at 86%.', response_metadata={'token_usage': {'completion_tokens': 47, 'prompt_tokens': 666, 'total_tokens': 713}, 'model_name': 'gpt-3.5-turbo', 'system_fingerprint': None, 'finish_reason': 'stop', 'logprobs': None}, id='run-3dce0a2d-4aa9-451b-8678-f64863ddb62a-0', usage_metadata={'input_tokens': 666, 'output_tokens': 47, 'total_tokens': 713})]}\n",
      "{'messages': [AIMessage(content='The current weather in San Francisco is clear with a temperature of 62.1°F (16.7°C). The wind speed is 3.6 km/h coming from the North, and the humidity is at 86%.', response_metadata={'token_usage': {'completion_tokens': 47, 'prompt_tokens': 666, 'total_tokens': 713}, 'model_name': 'gpt-3.5-turbo', 'system_fingerprint': None, 'finish_reason': 'stop', 'logprobs': None}, id='run-3dce0a2d-4aa9-451b-8678-f64863ddb62a-0', usage_metadata={'input_tokens': 666, 'output_tokens': 47, 'total_tokens': 713})]}\n"
     ]
    }
   ],
   "source": [
    "for event in abot.graph.stream(None, thread):\n",
    "    for v in event.values():\n",
    "        print(v)"
   ]
  },
  {
   "cell_type": "code",
   "execution_count": 11,
   "id": "0722c3d4-4cbf-43bf-81b0-50f634c4ce61",
   "metadata": {
    "height": 29
   },
   "outputs": [
    {
     "data": {
      "text/plain": [
       "StateSnapshot(values={'messages': [HumanMessage(content='Whats the weather in SF?', id='cf520af7-98b0-40ba-9d29-66e014b2d542'), AIMessage(content='', additional_kwargs={'tool_calls': [{'id': 'call_AkvNzBMsgYzotNxO4EdY6HBs', 'function': {'arguments': '{\"query\":\"current weather in San Francisco\"}', 'name': 'tavily_search_results_json'}, 'type': 'function'}]}, response_metadata={'token_usage': {'completion_tokens': 22, 'prompt_tokens': 152, 'total_tokens': 174}, 'model_name': 'gpt-3.5-turbo', 'system_fingerprint': None, 'finish_reason': 'tool_calls', 'logprobs': None}, id='run-0ce860af-a85c-47d7-9e38-13845818d514-0', tool_calls=[{'name': 'tavily_search_results_json', 'args': {'query': 'current weather in San Francisco'}, 'id': 'call_AkvNzBMsgYzotNxO4EdY6HBs'}], usage_metadata={'input_tokens': 152, 'output_tokens': 22, 'total_tokens': 174}), ToolMessage(content='[{\\'url\\': \\'https://www.wunderground.com/hourly/us/ca/san-francisco/date/2024-07-02\\', \\'content\\': \\'San Francisco Weather Forecasts. Weather Underground provides local & long-range weather forecasts, weatherreports, maps & tropical weather conditions for the San Francisco area. ... Tuesday 07/02 ...\\'}, {\\'url\\': \\'https://www.weatherapi.com/\\', \\'content\\': \"{\\'location\\': {\\'name\\': \\'San Francisco\\', \\'region\\': \\'California\\', \\'country\\': \\'United States of America\\', \\'lat\\': 37.78, \\'lon\\': -122.42, \\'tz_id\\': \\'America/Los_Angeles\\', \\'localtime_epoch\\': 1719917560, \\'localtime\\': \\'2024-07-02 3:52\\'}, \\'current\\': {\\'last_updated_epoch\\': 1719917100, \\'last_updated\\': \\'2024-07-02 03:45\\', \\'temp_c\\': 16.7, \\'temp_f\\': 62.1, \\'is_day\\': 0, \\'condition\\': {\\'text\\': \\'Clear\\', \\'icon\\': \\'//cdn.weatherapi.com/weather/64x64/night/113.png\\', \\'code\\': 1000}, \\'wind_mph\\': 2.2, \\'wind_kph\\': 3.6, \\'wind_degree\\': 10, \\'wind_dir\\': \\'N\\', \\'pressure_mb\\': 1010.0, \\'pressure_in\\': 29.81, \\'precip_mm\\': 0.0, \\'precip_in\\': 0.0, \\'humidity\\': 86, \\'cloud\\': 0, \\'feelslike_c\\': 16.7, \\'feelslike_f\\': 62.1, \\'windchill_c\\': 13.0, \\'windchill_f\\': 55.4, \\'heatindex_c\\': 13.4, \\'heatindex_f\\': 56.0, \\'dewpoint_c\\': 10.6, \\'dewpoint_f\\': 51.1, \\'vis_km\\': 16.0, \\'vis_miles\\': 9.0, \\'uv\\': 1.0, \\'gust_mph\\': 10.3, \\'gust_kph\\': 16.6}}\"}]', name='tavily_search_results_json', id='af83d79d-9e8e-40e6-ba3c-0c3856599de2', tool_call_id='call_AkvNzBMsgYzotNxO4EdY6HBs'), AIMessage(content='The current weather in San Francisco is clear with a temperature of 62.1°F (16.7°C). The wind speed is 3.6 km/h coming from the North, and the humidity is at 86%.', response_metadata={'token_usage': {'completion_tokens': 47, 'prompt_tokens': 666, 'total_tokens': 713}, 'model_name': 'gpt-3.5-turbo', 'system_fingerprint': None, 'finish_reason': 'stop', 'logprobs': None}, id='run-3dce0a2d-4aa9-451b-8678-f64863ddb62a-0', usage_metadata={'input_tokens': 666, 'output_tokens': 47, 'total_tokens': 713})]}, next=(), config={'configurable': {'thread_id': '1', 'thread_ts': '1ef38615-8c83-6eee-8003-df7b011d5bfc'}}, metadata={'source': 'loop', 'step': 3, 'writes': {'llm': {'messages': [AIMessage(content='The current weather in San Francisco is clear with a temperature of 62.1°F (16.7°C). The wind speed is 3.6 km/h coming from the North, and the humidity is at 86%.', response_metadata={'token_usage': {'completion_tokens': 47, 'prompt_tokens': 666, 'total_tokens': 713}, 'model_name': 'gpt-3.5-turbo', 'system_fingerprint': None, 'finish_reason': 'stop', 'logprobs': None}, id='run-3dce0a2d-4aa9-451b-8678-f64863ddb62a-0', usage_metadata={'input_tokens': 666, 'output_tokens': 47, 'total_tokens': 713})]}}}, created_at='2024-07-02T10:53:42.427620+00:00', parent_config={'configurable': {'thread_id': '1', 'thread_ts': '1ef38615-7f58-6fbd-8002-3cfdd4f1b78f'}})"
      ]
     },
     "execution_count": 11,
     "metadata": {},
     "output_type": "execute_result"
    }
   ],
   "source": [
    "abot.graph.get_state(thread)"
   ]
  },
  {
   "cell_type": "code",
   "execution_count": 12,
   "id": "6b2f82fe-3ec4-4917-be51-9fb10d1317fa",
   "metadata": {
    "height": 29
   },
   "outputs": [
    {
     "data": {
      "text/plain": [
       "()"
      ]
     },
     "execution_count": 12,
     "metadata": {},
     "output_type": "execute_result"
    }
   ],
   "source": [
    "abot.graph.get_state(thread).next"
   ]
  },
  {
   "cell_type": "code",
   "execution_count": 13,
   "id": "ee0fe1c7-77e2-499c-a2f9-1f739bb6ddf0",
   "metadata": {
    "height": 267
   },
   "outputs": [
    {
     "name": "stdout",
     "output_type": "stream",
     "text": [
      "{'messages': [HumanMessage(content='Whats the weather in LA?', id='fd8b34ef-fbb1-46ae-82cc-72b2e38363ad'), AIMessage(content='', additional_kwargs={'tool_calls': [{'id': 'call_XwNn0SKXZBpAZCOMZFfZ608o', 'function': {'arguments': '{\"query\":\"current weather in Los Angeles\"}', 'name': 'tavily_search_results_json'}, 'type': 'function'}]}, response_metadata={'token_usage': {'completion_tokens': 22, 'prompt_tokens': 152, 'total_tokens': 174}, 'model_name': 'gpt-3.5-turbo', 'system_fingerprint': None, 'finish_reason': 'tool_calls', 'logprobs': None}, id='run-d9c7db89-adcc-4882-a613-f63351651cca-0', tool_calls=[{'name': 'tavily_search_results_json', 'args': {'query': 'current weather in Los Angeles'}, 'id': 'call_XwNn0SKXZBpAZCOMZFfZ608o'}], usage_metadata={'input_tokens': 152, 'output_tokens': 22, 'total_tokens': 174})]}\n",
      "{'messages': [AIMessage(content='', additional_kwargs={'tool_calls': [{'id': 'call_XwNn0SKXZBpAZCOMZFfZ608o', 'function': {'arguments': '{\"query\":\"current weather in Los Angeles\"}', 'name': 'tavily_search_results_json'}, 'type': 'function'}]}, response_metadata={'token_usage': {'completion_tokens': 22, 'prompt_tokens': 152, 'total_tokens': 174}, 'model_name': 'gpt-3.5-turbo', 'system_fingerprint': None, 'finish_reason': 'tool_calls', 'logprobs': None}, id='run-d9c7db89-adcc-4882-a613-f63351651cca-0', tool_calls=[{'name': 'tavily_search_results_json', 'args': {'query': 'current weather in Los Angeles'}, 'id': 'call_XwNn0SKXZBpAZCOMZFfZ608o'}], usage_metadata={'input_tokens': 152, 'output_tokens': 22, 'total_tokens': 174})]}\n",
      "\n",
      " StateSnapshot(values={'messages': [HumanMessage(content='Whats the weather in LA?', id='fd8b34ef-fbb1-46ae-82cc-72b2e38363ad'), AIMessage(content='', additional_kwargs={'tool_calls': [{'id': 'call_XwNn0SKXZBpAZCOMZFfZ608o', 'function': {'arguments': '{\"query\":\"current weather in Los Angeles\"}', 'name': 'tavily_search_results_json'}, 'type': 'function'}]}, response_metadata={'token_usage': {'completion_tokens': 22, 'prompt_tokens': 152, 'total_tokens': 174}, 'model_name': 'gpt-3.5-turbo', 'system_fingerprint': None, 'finish_reason': 'tool_calls', 'logprobs': None}, id='run-d9c7db89-adcc-4882-a613-f63351651cca-0', tool_calls=[{'name': 'tavily_search_results_json', 'args': {'query': 'current weather in Los Angeles'}, 'id': 'call_XwNn0SKXZBpAZCOMZFfZ608o'}], usage_metadata={'input_tokens': 152, 'output_tokens': 22, 'total_tokens': 174})]}, next=('action',), config={'configurable': {'thread_id': '2', 'thread_ts': '1ef38616-7ec7-6593-8001-6759d3fe1409'}}, metadata={'source': 'loop', 'step': 1, 'writes': {'llm': {'messages': [AIMessage(content='', additional_kwargs={'tool_calls': [{'id': 'call_XwNn0SKXZBpAZCOMZFfZ608o', 'function': {'arguments': '{\"query\":\"current weather in Los Angeles\"}', 'name': 'tavily_search_results_json'}, 'type': 'function'}]}, response_metadata={'token_usage': {'completion_tokens': 22, 'prompt_tokens': 152, 'total_tokens': 174}, 'model_name': 'gpt-3.5-turbo', 'system_fingerprint': None, 'finish_reason': 'tool_calls', 'logprobs': None}, id='run-d9c7db89-adcc-4882-a613-f63351651cca-0', tool_calls=[{'name': 'tavily_search_results_json', 'args': {'query': 'current weather in Los Angeles'}, 'id': 'call_XwNn0SKXZBpAZCOMZFfZ608o'}], usage_metadata={'input_tokens': 152, 'output_tokens': 22, 'total_tokens': 174})]}}}, created_at='2024-07-02T10:54:07.830773+00:00', parent_config={'configurable': {'thread_id': '2', 'thread_ts': '1ef38616-6db8-6a84-8000-6bfafd3b2d4c'}}) \n",
      "\n",
      "Calling: {'name': 'tavily_search_results_json', 'args': {'query': 'current weather in Los Angeles'}, 'id': 'call_XwNn0SKXZBpAZCOMZFfZ608o'}\n",
      "Back to the model!\n",
      "{'messages': [ToolMessage(content=\"[{'url': 'https://www.timeanddate.com/weather/usa/los-angeles/historic?month=2&year=2024', 'content': 'Weather reports from February 2024 in Los Angeles, California, USA with highs and lows. Sign in. News. News Home; Astronomy News; Time Zone News; ... See more current weather. ... 07 am: 56 °F: Light rain. Mostly cloudy. 10 mph:'}, {'url': 'https://www.wunderground.com/hourly/us/ca/los-angeles/90053/date/2024-07-02', 'content': 'Weather Underground provides local & long-range weather forecasts, weatherreports, maps & tropical weather conditions for the Los Angeles area. ... Tuesday 07/02 Hourly for Tomorrow, Tue 07/02'}]\", name='tavily_search_results_json', tool_call_id='call_XwNn0SKXZBpAZCOMZFfZ608o')]}\n",
      "{'messages': [HumanMessage(content='Whats the weather in LA?', id='fd8b34ef-fbb1-46ae-82cc-72b2e38363ad'), AIMessage(content='', additional_kwargs={'tool_calls': [{'id': 'call_XwNn0SKXZBpAZCOMZFfZ608o', 'function': {'arguments': '{\"query\":\"current weather in Los Angeles\"}', 'name': 'tavily_search_results_json'}, 'type': 'function'}]}, response_metadata={'token_usage': {'completion_tokens': 22, 'prompt_tokens': 152, 'total_tokens': 174}, 'model_name': 'gpt-3.5-turbo', 'system_fingerprint': None, 'finish_reason': 'tool_calls', 'logprobs': None}, id='run-d9c7db89-adcc-4882-a613-f63351651cca-0', tool_calls=[{'name': 'tavily_search_results_json', 'args': {'query': 'current weather in Los Angeles'}, 'id': 'call_XwNn0SKXZBpAZCOMZFfZ608o'}], usage_metadata={'input_tokens': 152, 'output_tokens': 22, 'total_tokens': 174}), ToolMessage(content=\"[{'url': 'https://www.timeanddate.com/weather/usa/los-angeles/historic?month=2&year=2024', 'content': 'Weather reports from February 2024 in Los Angeles, California, USA with highs and lows. Sign in. News. News Home; Astronomy News; Time Zone News; ... See more current weather. ... 07 am: 56 °F: Light rain. Mostly cloudy. 10 mph:'}, {'url': 'https://www.wunderground.com/hourly/us/ca/los-angeles/90053/date/2024-07-02', 'content': 'Weather Underground provides local & long-range weather forecasts, weatherreports, maps & tropical weather conditions for the Los Angeles area. ... Tuesday 07/02 Hourly for Tomorrow, Tue 07/02'}]\", name='tavily_search_results_json', id='75c64587-bf86-48cc-9287-e03d6dfaee89', tool_call_id='call_XwNn0SKXZBpAZCOMZFfZ608o'), AIMessage(content='The current weather in Los Angeles, California is 56°F with light rain and mostly cloudy conditions. The wind speed is 10 mph.', response_metadata={'token_usage': {'completion_tokens': 29, 'prompt_tokens': 363, 'total_tokens': 392}, 'model_name': 'gpt-3.5-turbo', 'system_fingerprint': None, 'finish_reason': 'stop', 'logprobs': None}, id='run-178bbd79-b127-4170-9ee7-80acfcf0457b-0', usage_metadata={'input_tokens': 363, 'output_tokens': 29, 'total_tokens': 392})]}\n",
      "{'messages': [AIMessage(content='The current weather in Los Angeles, California is 56°F with light rain and mostly cloudy conditions. The wind speed is 10 mph.', response_metadata={'token_usage': {'completion_tokens': 29, 'prompt_tokens': 363, 'total_tokens': 392}, 'model_name': 'gpt-3.5-turbo', 'system_fingerprint': None, 'finish_reason': 'stop', 'logprobs': None}, id='run-178bbd79-b127-4170-9ee7-80acfcf0457b-0', usage_metadata={'input_tokens': 363, 'output_tokens': 29, 'total_tokens': 392})]}\n"
     ]
    }
   ],
   "source": [
    "messages = [HumanMessage(\"Whats the weather in LA?\")]\n",
    "thread = {\"configurable\": {\"thread_id\": \"2\"}}\n",
    "for event in abot.graph.stream({\"messages\": messages}, thread):\n",
    "    for v in event.values():\n",
    "        print(v)\n",
    "while abot.graph.get_state(thread).next:\n",
    "    print(\"\\n\", abot.graph.get_state(thread),\"\\n\")\n",
    "    _input = input(\"proceed?\")\n",
    "    if _input != \"y\":\n",
    "        print(\"aborting\")\n",
    "        break\n",
    "    for event in abot.graph.stream(None, thread):\n",
    "        for v in event.values():\n",
    "            print(v)"
   ]
  },
  {
   "cell_type": "markdown",
   "id": "7bbe5689-54ab-49ca-9055-6e5216abd523",
   "metadata": {},
   "source": [
    "## Modify State\n",
    "Run until the interrupt and then modify the state."
   ]
  },
  {
   "cell_type": "code",
   "execution_count": 14,
   "id": "98f303b1-a4d0-408c-8cc0-515ff980717f",
   "metadata": {
    "height": 114
   },
   "outputs": [
    {
     "name": "stdout",
     "output_type": "stream",
     "text": [
      "{'messages': [HumanMessage(content='Whats the weather in LA?', id='ab4e5c23-c6ca-40f4-8fad-77412b264a8e'), AIMessage(content='', additional_kwargs={'tool_calls': [{'id': 'call_jVA1U88JtaP5731iQ1DM1P0V', 'function': {'arguments': '{\"query\":\"weather in Los Angeles\"}', 'name': 'tavily_search_results_json'}, 'type': 'function'}]}, response_metadata={'token_usage': {'completion_tokens': 21, 'prompt_tokens': 152, 'total_tokens': 173}, 'model_name': 'gpt-3.5-turbo', 'system_fingerprint': None, 'finish_reason': 'tool_calls', 'logprobs': None}, id='run-e25ac16a-8a7b-4254-8c09-9b9299ddcdb6-0', tool_calls=[{'name': 'tavily_search_results_json', 'args': {'query': 'weather in Los Angeles'}, 'id': 'call_jVA1U88JtaP5731iQ1DM1P0V'}], usage_metadata={'input_tokens': 152, 'output_tokens': 21, 'total_tokens': 173})]}\n",
      "{'messages': [AIMessage(content='', additional_kwargs={'tool_calls': [{'id': 'call_jVA1U88JtaP5731iQ1DM1P0V', 'function': {'arguments': '{\"query\":\"weather in Los Angeles\"}', 'name': 'tavily_search_results_json'}, 'type': 'function'}]}, response_metadata={'token_usage': {'completion_tokens': 21, 'prompt_tokens': 152, 'total_tokens': 173}, 'model_name': 'gpt-3.5-turbo', 'system_fingerprint': None, 'finish_reason': 'tool_calls', 'logprobs': None}, id='run-e25ac16a-8a7b-4254-8c09-9b9299ddcdb6-0', tool_calls=[{'name': 'tavily_search_results_json', 'args': {'query': 'weather in Los Angeles'}, 'id': 'call_jVA1U88JtaP5731iQ1DM1P0V'}], usage_metadata={'input_tokens': 152, 'output_tokens': 21, 'total_tokens': 173})]}\n"
     ]
    }
   ],
   "source": [
    "messages = [HumanMessage(\"Whats the weather in LA?\")]\n",
    "thread = {\"configurable\": {\"thread_id\": \"3\"}}\n",
    "for event in abot.graph.stream({\"messages\": messages}, thread):\n",
    "    for v in event.values():\n",
    "        print(v)"
   ]
  },
  {
   "cell_type": "code",
   "execution_count": 15,
   "id": "bf4dcb93-6298-4cfd-b3ce-61dfac7fb35f",
   "metadata": {
    "height": 29
   },
   "outputs": [
    {
     "data": {
      "text/plain": [
       "StateSnapshot(values={'messages': [HumanMessage(content='Whats the weather in LA?', id='ab4e5c23-c6ca-40f4-8fad-77412b264a8e'), AIMessage(content='', additional_kwargs={'tool_calls': [{'id': 'call_jVA1U88JtaP5731iQ1DM1P0V', 'function': {'arguments': '{\"query\":\"weather in Los Angeles\"}', 'name': 'tavily_search_results_json'}, 'type': 'function'}]}, response_metadata={'token_usage': {'completion_tokens': 21, 'prompt_tokens': 152, 'total_tokens': 173}, 'model_name': 'gpt-3.5-turbo', 'system_fingerprint': None, 'finish_reason': 'tool_calls', 'logprobs': None}, id='run-e25ac16a-8a7b-4254-8c09-9b9299ddcdb6-0', tool_calls=[{'name': 'tavily_search_results_json', 'args': {'query': 'weather in Los Angeles'}, 'id': 'call_jVA1U88JtaP5731iQ1DM1P0V'}], usage_metadata={'input_tokens': 152, 'output_tokens': 21, 'total_tokens': 173})]}, next=('action',), config={'configurable': {'thread_id': '3', 'thread_ts': '1ef38618-2586-6377-8001-51a8288b1e20'}}, metadata={'source': 'loop', 'step': 1, 'writes': {'llm': {'messages': [AIMessage(content='', additional_kwargs={'tool_calls': [{'id': 'call_jVA1U88JtaP5731iQ1DM1P0V', 'function': {'arguments': '{\"query\":\"weather in Los Angeles\"}', 'name': 'tavily_search_results_json'}, 'type': 'function'}]}, response_metadata={'token_usage': {'completion_tokens': 21, 'prompt_tokens': 152, 'total_tokens': 173}, 'model_name': 'gpt-3.5-turbo', 'system_fingerprint': None, 'finish_reason': 'tool_calls', 'logprobs': None}, id='run-e25ac16a-8a7b-4254-8c09-9b9299ddcdb6-0', tool_calls=[{'name': 'tavily_search_results_json', 'args': {'query': 'weather in Los Angeles'}, 'id': 'call_jVA1U88JtaP5731iQ1DM1P0V'}], usage_metadata={'input_tokens': 152, 'output_tokens': 21, 'total_tokens': 173})]}}}, created_at='2024-07-02T10:54:52.157745+00:00', parent_config={'configurable': {'thread_id': '3', 'thread_ts': '1ef38618-171f-6f29-8000-f86cf8ed9bb3'}})"
      ]
     },
     "execution_count": 15,
     "metadata": {},
     "output_type": "execute_result"
    }
   ],
   "source": [
    "abot.graph.get_state(thread)"
   ]
  },
  {
   "cell_type": "code",
   "execution_count": 16,
   "id": "932883a4-c722-42bb-aec0-b4f41c5c81a4",
   "metadata": {
    "height": 46
   },
   "outputs": [],
   "source": [
    "current_values = abot.graph.get_state(thread)"
   ]
  },
  {
   "cell_type": "code",
   "execution_count": 17,
   "id": "ff362f49-dcf1-4ea1-a86c-e516e9ab897d",
   "metadata": {
    "height": 29
   },
   "outputs": [
    {
     "data": {
      "text/plain": [
       "AIMessage(content='', additional_kwargs={'tool_calls': [{'id': 'call_jVA1U88JtaP5731iQ1DM1P0V', 'function': {'arguments': '{\"query\":\"weather in Los Angeles\"}', 'name': 'tavily_search_results_json'}, 'type': 'function'}]}, response_metadata={'token_usage': {'completion_tokens': 21, 'prompt_tokens': 152, 'total_tokens': 173}, 'model_name': 'gpt-3.5-turbo', 'system_fingerprint': None, 'finish_reason': 'tool_calls', 'logprobs': None}, id='run-e25ac16a-8a7b-4254-8c09-9b9299ddcdb6-0', tool_calls=[{'name': 'tavily_search_results_json', 'args': {'query': 'weather in Los Angeles'}, 'id': 'call_jVA1U88JtaP5731iQ1DM1P0V'}], usage_metadata={'input_tokens': 152, 'output_tokens': 21, 'total_tokens': 173})"
      ]
     },
     "execution_count": 17,
     "metadata": {},
     "output_type": "execute_result"
    }
   ],
   "source": [
    "current_values.values['messages'][-1]"
   ]
  },
  {
   "cell_type": "code",
   "execution_count": 18,
   "id": "a7e15a20-83d7-434c-8551-bce8dcc32be0",
   "metadata": {
    "height": 46
   },
   "outputs": [
    {
     "data": {
      "text/plain": [
       "[{'name': 'tavily_search_results_json',\n",
       "  'args': {'query': 'weather in Los Angeles'},\n",
       "  'id': 'call_jVA1U88JtaP5731iQ1DM1P0V'}]"
      ]
     },
     "execution_count": 18,
     "metadata": {},
     "output_type": "execute_result"
    }
   ],
   "source": [
    "current_values.values['messages'][-1].tool_calls"
   ]
  },
  {
   "cell_type": "code",
   "execution_count": 19,
   "id": "54ab2c74-f32e-490c-a85d-932d11444210",
   "metadata": {
    "height": 131
   },
   "outputs": [],
   "source": [
    "_id = current_values.values['messages'][-1].tool_calls[0]['id']\n",
    "current_values.values['messages'][-1].tool_calls = [\n",
    "    {'name': 'tavily_search_results_json',\n",
    "  'args': {'query': 'current weather in Louisiana'},\n",
    "  'id': _id}\n",
    "]"
   ]
  },
  {
   "cell_type": "code",
   "execution_count": 20,
   "id": "a833d3ce-bd31-4319-811d-decff226b970",
   "metadata": {
    "height": 46
   },
   "outputs": [
    {
     "name": "stdout",
     "output_type": "stream",
     "text": [
      "{'messages': [HumanMessage(content='Whats the weather in LA?', id='ab4e5c23-c6ca-40f4-8fad-77412b264a8e'), AIMessage(content='', additional_kwargs={'tool_calls': [{'id': 'call_jVA1U88JtaP5731iQ1DM1P0V', 'function': {'arguments': '{\"query\":\"weather in Los Angeles\"}', 'name': 'tavily_search_results_json'}, 'type': 'function'}]}, response_metadata={'token_usage': {'completion_tokens': 21, 'prompt_tokens': 152, 'total_tokens': 173}, 'model_name': 'gpt-3.5-turbo', 'system_fingerprint': None, 'finish_reason': 'tool_calls', 'logprobs': None}, id='run-e25ac16a-8a7b-4254-8c09-9b9299ddcdb6-0', tool_calls=[{'name': 'tavily_search_results_json', 'args': {'query': 'current weather in Louisiana'}, 'id': 'call_jVA1U88JtaP5731iQ1DM1P0V'}], usage_metadata={'input_tokens': 152, 'output_tokens': 21, 'total_tokens': 173})]}\n"
     ]
    },
    {
     "data": {
      "text/plain": [
       "{'configurable': {'thread_id': '3',\n",
       "  'thread_ts': '1ef38619-5946-6479-8002-3695874be198'}}"
      ]
     },
     "execution_count": 20,
     "metadata": {},
     "output_type": "execute_result"
    }
   ],
   "source": [
    "abot.graph.update_state(thread, current_values.values)"
   ]
  },
  {
   "cell_type": "code",
   "execution_count": 21,
   "id": "76e93cce-6eab-4c7c-ac64-e9993fdb30d6",
   "metadata": {
    "height": 29
   },
   "outputs": [
    {
     "data": {
      "text/plain": [
       "StateSnapshot(values={'messages': [HumanMessage(content='Whats the weather in LA?', id='ab4e5c23-c6ca-40f4-8fad-77412b264a8e'), AIMessage(content='', additional_kwargs={'tool_calls': [{'id': 'call_jVA1U88JtaP5731iQ1DM1P0V', 'function': {'arguments': '{\"query\":\"weather in Los Angeles\"}', 'name': 'tavily_search_results_json'}, 'type': 'function'}]}, response_metadata={'token_usage': {'completion_tokens': 21, 'prompt_tokens': 152, 'total_tokens': 173}, 'model_name': 'gpt-3.5-turbo', 'system_fingerprint': None, 'finish_reason': 'tool_calls', 'logprobs': None}, id='run-e25ac16a-8a7b-4254-8c09-9b9299ddcdb6-0', tool_calls=[{'name': 'tavily_search_results_json', 'args': {'query': 'current weather in Louisiana'}, 'id': 'call_jVA1U88JtaP5731iQ1DM1P0V'}], usage_metadata={'input_tokens': 152, 'output_tokens': 21, 'total_tokens': 173})]}, next=('action',), config={'configurable': {'thread_id': '3', 'thread_ts': '1ef38619-5946-6479-8002-3695874be198'}}, metadata={'source': 'update', 'step': 2, 'writes': {'llm': {'messages': [HumanMessage(content='Whats the weather in LA?', id='ab4e5c23-c6ca-40f4-8fad-77412b264a8e'), AIMessage(content='', additional_kwargs={'tool_calls': [{'id': 'call_jVA1U88JtaP5731iQ1DM1P0V', 'function': {'arguments': '{\"query\":\"weather in Los Angeles\"}', 'name': 'tavily_search_results_json'}, 'type': 'function'}]}, response_metadata={'token_usage': {'completion_tokens': 21, 'prompt_tokens': 152, 'total_tokens': 173}, 'model_name': 'gpt-3.5-turbo', 'system_fingerprint': None, 'finish_reason': 'tool_calls', 'logprobs': None}, id='run-e25ac16a-8a7b-4254-8c09-9b9299ddcdb6-0', tool_calls=[{'name': 'tavily_search_results_json', 'args': {'query': 'current weather in Louisiana'}, 'id': 'call_jVA1U88JtaP5731iQ1DM1P0V'}], usage_metadata={'input_tokens': 152, 'output_tokens': 21, 'total_tokens': 173})]}}}, created_at='2024-07-02T10:55:24.428812+00:00', parent_config={'configurable': {'thread_id': '3', 'thread_ts': '1ef38618-2586-6377-8001-51a8288b1e20'}})"
      ]
     },
     "execution_count": 21,
     "metadata": {},
     "output_type": "execute_result"
    }
   ],
   "source": [
    "abot.graph.get_state(thread)"
   ]
  },
  {
   "cell_type": "code",
   "execution_count": 22,
   "id": "fd2d0990-a932-423f-9ff3-5cada58c5f32",
   "metadata": {
    "height": 80
   },
   "outputs": [
    {
     "name": "stdout",
     "output_type": "stream",
     "text": [
      "Calling: {'name': 'tavily_search_results_json', 'args': {'query': 'current weather in Louisiana'}, 'id': 'call_jVA1U88JtaP5731iQ1DM1P0V'}\n",
      "Back to the model!\n",
      "{'messages': [ToolMessage(content='[{\\'url\\': \\'https://www.weatherapi.com/\\', \\'content\\': \"{\\'location\\': {\\'name\\': \\'Louisiana\\', \\'region\\': \\'Missouri\\', \\'country\\': \\'USA United States of America\\', \\'lat\\': 39.44, \\'lon\\': -91.06, \\'tz_id\\': \\'America/Chicago\\', \\'localtime_epoch\\': 1719917689, \\'localtime\\': \\'2024-07-02 5:54\\'}, \\'current\\': {\\'last_updated_epoch\\': 1719917100, \\'last_updated\\': \\'2024-07-02 05:45\\', \\'temp_c\\': 17.9, \\'temp_f\\': 64.2, \\'is_day\\': 1, \\'condition\\': {\\'text\\': \\'Sunny\\', \\'icon\\': \\'//cdn.weatherapi.com/weather/64x64/day/113.png\\', \\'code\\': 1000}, \\'wind_mph\\': 6.9, \\'wind_kph\\': 11.2, \\'wind_degree\\': 140, \\'wind_dir\\': \\'SE\\', \\'pressure_mb\\': 1016.0, \\'pressure_in\\': 29.99, \\'precip_mm\\': 0.0, \\'precip_in\\': 0.0, \\'humidity\\': 78, \\'cloud\\': 0, \\'feelslike_c\\': 17.9, \\'feelslike_f\\': 64.2, \\'windchill_c\\': 17.9, \\'windchill_f\\': 64.3, \\'heatindex_c\\': 17.9, \\'heatindex_f\\': 64.3, \\'dewpoint_c\\': 13.2, \\'dewpoint_f\\': 55.7, \\'vis_km\\': 16.0, \\'vis_miles\\': 9.0, \\'uv\\': 1.0, \\'gust_mph\\': 22.1, \\'gust_kph\\': 35.6}}\"}, {\\'url\\': \\'https://www.wafb.com/2024/07/02/dangerous-heat-continues-tracking-category-five-beryl/\\', \\'content\\': \\'BATON ROUGE, La. (WAFB) - Today will feature another round of dangerous heat with an Excessive Heat Warning for heat index readings up to 115! Today will be a FIRST ALERT due to the heat warning ...\\'}]', name='tavily_search_results_json', tool_call_id='call_jVA1U88JtaP5731iQ1DM1P0V')]}\n",
      "{'messages': [HumanMessage(content='Whats the weather in LA?', id='ab4e5c23-c6ca-40f4-8fad-77412b264a8e'), AIMessage(content='', additional_kwargs={'tool_calls': [{'id': 'call_jVA1U88JtaP5731iQ1DM1P0V', 'function': {'arguments': '{\"query\":\"weather in Los Angeles\"}', 'name': 'tavily_search_results_json'}, 'type': 'function'}]}, response_metadata={'token_usage': {'completion_tokens': 21, 'prompt_tokens': 152, 'total_tokens': 173}, 'model_name': 'gpt-3.5-turbo', 'system_fingerprint': None, 'finish_reason': 'tool_calls', 'logprobs': None}, id='run-e25ac16a-8a7b-4254-8c09-9b9299ddcdb6-0', tool_calls=[{'name': 'tavily_search_results_json', 'args': {'query': 'current weather in Louisiana'}, 'id': 'call_jVA1U88JtaP5731iQ1DM1P0V'}], usage_metadata={'input_tokens': 152, 'output_tokens': 21, 'total_tokens': 173}), ToolMessage(content='[{\\'url\\': \\'https://www.weatherapi.com/\\', \\'content\\': \"{\\'location\\': {\\'name\\': \\'Louisiana\\', \\'region\\': \\'Missouri\\', \\'country\\': \\'USA United States of America\\', \\'lat\\': 39.44, \\'lon\\': -91.06, \\'tz_id\\': \\'America/Chicago\\', \\'localtime_epoch\\': 1719917689, \\'localtime\\': \\'2024-07-02 5:54\\'}, \\'current\\': {\\'last_updated_epoch\\': 1719917100, \\'last_updated\\': \\'2024-07-02 05:45\\', \\'temp_c\\': 17.9, \\'temp_f\\': 64.2, \\'is_day\\': 1, \\'condition\\': {\\'text\\': \\'Sunny\\', \\'icon\\': \\'//cdn.weatherapi.com/weather/64x64/day/113.png\\', \\'code\\': 1000}, \\'wind_mph\\': 6.9, \\'wind_kph\\': 11.2, \\'wind_degree\\': 140, \\'wind_dir\\': \\'SE\\', \\'pressure_mb\\': 1016.0, \\'pressure_in\\': 29.99, \\'precip_mm\\': 0.0, \\'precip_in\\': 0.0, \\'humidity\\': 78, \\'cloud\\': 0, \\'feelslike_c\\': 17.9, \\'feelslike_f\\': 64.2, \\'windchill_c\\': 17.9, \\'windchill_f\\': 64.3, \\'heatindex_c\\': 17.9, \\'heatindex_f\\': 64.3, \\'dewpoint_c\\': 13.2, \\'dewpoint_f\\': 55.7, \\'vis_km\\': 16.0, \\'vis_miles\\': 9.0, \\'uv\\': 1.0, \\'gust_mph\\': 22.1, \\'gust_kph\\': 35.6}}\"}, {\\'url\\': \\'https://www.wafb.com/2024/07/02/dangerous-heat-continues-tracking-category-five-beryl/\\', \\'content\\': \\'BATON ROUGE, La. (WAFB) - Today will feature another round of dangerous heat with an Excessive Heat Warning for heat index readings up to 115! Today will be a FIRST ALERT due to the heat warning ...\\'}]', name='tavily_search_results_json', id='a1380e31-4e93-4066-927e-94e965bf965b', tool_call_id='call_jVA1U88JtaP5731iQ1DM1P0V'), AIMessage(content='I found the current weather in Louisiana, not Los Angeles. The current weather in Louisiana is sunny with a temperature of 64.2°F (17.9°C). The wind speed is 11.2 kph coming from the southeast.', response_metadata={'token_usage': {'completion_tokens': 50, 'prompt_tokens': 677, 'total_tokens': 727}, 'model_name': 'gpt-3.5-turbo', 'system_fingerprint': None, 'finish_reason': 'stop', 'logprobs': None}, id='run-3e291253-14d4-46b4-9b78-ddeb9089f896-0', usage_metadata={'input_tokens': 677, 'output_tokens': 50, 'total_tokens': 727})]}\n",
      "{'messages': [AIMessage(content='I found the current weather in Louisiana, not Los Angeles. The current weather in Louisiana is sunny with a temperature of 64.2°F (17.9°C). The wind speed is 11.2 kph coming from the southeast.', response_metadata={'token_usage': {'completion_tokens': 50, 'prompt_tokens': 677, 'total_tokens': 727}, 'model_name': 'gpt-3.5-turbo', 'system_fingerprint': None, 'finish_reason': 'stop', 'logprobs': None}, id='run-3e291253-14d4-46b4-9b78-ddeb9089f896-0', usage_metadata={'input_tokens': 677, 'output_tokens': 50, 'total_tokens': 727})]}\n"
     ]
    }
   ],
   "source": [
    "for event in abot.graph.stream(None, thread):\n",
    "    for v in event.values():\n",
    "        print(v)"
   ]
  },
  {
   "cell_type": "markdown",
   "id": "e75b870b-e0df-46f1-b29b-fb151ebcbcc3",
   "metadata": {},
   "source": [
    "## Time Travel"
   ]
  },
  {
   "cell_type": "code",
   "execution_count": 23,
   "id": "27cde654-64e2-48bc-80a9-0ed668ccb7dc",
   "metadata": {
    "height": 114
   },
   "outputs": [
    {
     "name": "stdout",
     "output_type": "stream",
     "text": [
      "StateSnapshot(values={'messages': [HumanMessage(content='Whats the weather in LA?', id='ab4e5c23-c6ca-40f4-8fad-77412b264a8e'), AIMessage(content='', additional_kwargs={'tool_calls': [{'id': 'call_jVA1U88JtaP5731iQ1DM1P0V', 'function': {'arguments': '{\"query\":\"weather in Los Angeles\"}', 'name': 'tavily_search_results_json'}, 'type': 'function'}]}, response_metadata={'token_usage': {'completion_tokens': 21, 'prompt_tokens': 152, 'total_tokens': 173}, 'model_name': 'gpt-3.5-turbo', 'system_fingerprint': None, 'finish_reason': 'tool_calls', 'logprobs': None}, id='run-e25ac16a-8a7b-4254-8c09-9b9299ddcdb6-0', tool_calls=[{'name': 'tavily_search_results_json', 'args': {'query': 'current weather in Louisiana'}, 'id': 'call_jVA1U88JtaP5731iQ1DM1P0V'}], usage_metadata={'input_tokens': 152, 'output_tokens': 21, 'total_tokens': 173}), ToolMessage(content='[{\\'url\\': \\'https://www.weatherapi.com/\\', \\'content\\': \"{\\'location\\': {\\'name\\': \\'Louisiana\\', \\'region\\': \\'Missouri\\', \\'country\\': \\'USA United States of America\\', \\'lat\\': 39.44, \\'lon\\': -91.06, \\'tz_id\\': \\'America/Chicago\\', \\'localtime_epoch\\': 1719917689, \\'localtime\\': \\'2024-07-02 5:54\\'}, \\'current\\': {\\'last_updated_epoch\\': 1719917100, \\'last_updated\\': \\'2024-07-02 05:45\\', \\'temp_c\\': 17.9, \\'temp_f\\': 64.2, \\'is_day\\': 1, \\'condition\\': {\\'text\\': \\'Sunny\\', \\'icon\\': \\'//cdn.weatherapi.com/weather/64x64/day/113.png\\', \\'code\\': 1000}, \\'wind_mph\\': 6.9, \\'wind_kph\\': 11.2, \\'wind_degree\\': 140, \\'wind_dir\\': \\'SE\\', \\'pressure_mb\\': 1016.0, \\'pressure_in\\': 29.99, \\'precip_mm\\': 0.0, \\'precip_in\\': 0.0, \\'humidity\\': 78, \\'cloud\\': 0, \\'feelslike_c\\': 17.9, \\'feelslike_f\\': 64.2, \\'windchill_c\\': 17.9, \\'windchill_f\\': 64.3, \\'heatindex_c\\': 17.9, \\'heatindex_f\\': 64.3, \\'dewpoint_c\\': 13.2, \\'dewpoint_f\\': 55.7, \\'vis_km\\': 16.0, \\'vis_miles\\': 9.0, \\'uv\\': 1.0, \\'gust_mph\\': 22.1, \\'gust_kph\\': 35.6}}\"}, {\\'url\\': \\'https://www.wafb.com/2024/07/02/dangerous-heat-continues-tracking-category-five-beryl/\\', \\'content\\': \\'BATON ROUGE, La. (WAFB) - Today will feature another round of dangerous heat with an Excessive Heat Warning for heat index readings up to 115! Today will be a FIRST ALERT due to the heat warning ...\\'}]', name='tavily_search_results_json', id='a1380e31-4e93-4066-927e-94e965bf965b', tool_call_id='call_jVA1U88JtaP5731iQ1DM1P0V'), AIMessage(content='I found the current weather in Louisiana, not Los Angeles. The current weather in Louisiana is sunny with a temperature of 64.2°F (17.9°C). The wind speed is 11.2 kph coming from the southeast.', response_metadata={'token_usage': {'completion_tokens': 50, 'prompt_tokens': 677, 'total_tokens': 727}, 'model_name': 'gpt-3.5-turbo', 'system_fingerprint': None, 'finish_reason': 'stop', 'logprobs': None}, id='run-3e291253-14d4-46b4-9b78-ddeb9089f896-0', usage_metadata={'input_tokens': 677, 'output_tokens': 50, 'total_tokens': 727})]}, next=(), config={'configurable': {'thread_id': '3', 'thread_ts': '1ef3861a-646d-6b17-8004-e354bb033a30'}}, metadata={'source': 'loop', 'step': 4, 'writes': {'llm': {'messages': [AIMessage(content='I found the current weather in Louisiana, not Los Angeles. The current weather in Louisiana is sunny with a temperature of 64.2°F (17.9°C). The wind speed is 11.2 kph coming from the southeast.', response_metadata={'token_usage': {'completion_tokens': 50, 'prompt_tokens': 677, 'total_tokens': 727}, 'model_name': 'gpt-3.5-turbo', 'system_fingerprint': None, 'finish_reason': 'stop', 'logprobs': None}, id='run-3e291253-14d4-46b4-9b78-ddeb9089f896-0', usage_metadata={'input_tokens': 677, 'output_tokens': 50, 'total_tokens': 727})]}}}, created_at='2024-07-02T10:55:52.441935+00:00', parent_config={'configurable': {'thread_id': '3', 'thread_ts': '1ef3861a-559e-6922-8003-12a5e7566e6a'}})\n",
      "--\n",
      "StateSnapshot(values={'messages': [HumanMessage(content='Whats the weather in LA?', id='ab4e5c23-c6ca-40f4-8fad-77412b264a8e'), AIMessage(content='', additional_kwargs={'tool_calls': [{'id': 'call_jVA1U88JtaP5731iQ1DM1P0V', 'function': {'arguments': '{\"query\":\"weather in Los Angeles\"}', 'name': 'tavily_search_results_json'}, 'type': 'function'}]}, response_metadata={'token_usage': {'completion_tokens': 21, 'prompt_tokens': 152, 'total_tokens': 173}, 'model_name': 'gpt-3.5-turbo', 'system_fingerprint': None, 'finish_reason': 'tool_calls', 'logprobs': None}, id='run-e25ac16a-8a7b-4254-8c09-9b9299ddcdb6-0', tool_calls=[{'name': 'tavily_search_results_json', 'args': {'query': 'current weather in Louisiana'}, 'id': 'call_jVA1U88JtaP5731iQ1DM1P0V'}], usage_metadata={'input_tokens': 152, 'output_tokens': 21, 'total_tokens': 173}), ToolMessage(content='[{\\'url\\': \\'https://www.weatherapi.com/\\', \\'content\\': \"{\\'location\\': {\\'name\\': \\'Louisiana\\', \\'region\\': \\'Missouri\\', \\'country\\': \\'USA United States of America\\', \\'lat\\': 39.44, \\'lon\\': -91.06, \\'tz_id\\': \\'America/Chicago\\', \\'localtime_epoch\\': 1719917689, \\'localtime\\': \\'2024-07-02 5:54\\'}, \\'current\\': {\\'last_updated_epoch\\': 1719917100, \\'last_updated\\': \\'2024-07-02 05:45\\', \\'temp_c\\': 17.9, \\'temp_f\\': 64.2, \\'is_day\\': 1, \\'condition\\': {\\'text\\': \\'Sunny\\', \\'icon\\': \\'//cdn.weatherapi.com/weather/64x64/day/113.png\\', \\'code\\': 1000}, \\'wind_mph\\': 6.9, \\'wind_kph\\': 11.2, \\'wind_degree\\': 140, \\'wind_dir\\': \\'SE\\', \\'pressure_mb\\': 1016.0, \\'pressure_in\\': 29.99, \\'precip_mm\\': 0.0, \\'precip_in\\': 0.0, \\'humidity\\': 78, \\'cloud\\': 0, \\'feelslike_c\\': 17.9, \\'feelslike_f\\': 64.2, \\'windchill_c\\': 17.9, \\'windchill_f\\': 64.3, \\'heatindex_c\\': 17.9, \\'heatindex_f\\': 64.3, \\'dewpoint_c\\': 13.2, \\'dewpoint_f\\': 55.7, \\'vis_km\\': 16.0, \\'vis_miles\\': 9.0, \\'uv\\': 1.0, \\'gust_mph\\': 22.1, \\'gust_kph\\': 35.6}}\"}, {\\'url\\': \\'https://www.wafb.com/2024/07/02/dangerous-heat-continues-tracking-category-five-beryl/\\', \\'content\\': \\'BATON ROUGE, La. (WAFB) - Today will feature another round of dangerous heat with an Excessive Heat Warning for heat index readings up to 115! Today will be a FIRST ALERT due to the heat warning ...\\'}]', name='tavily_search_results_json', id='a1380e31-4e93-4066-927e-94e965bf965b', tool_call_id='call_jVA1U88JtaP5731iQ1DM1P0V')]}, next=('llm',), config={'configurable': {'thread_id': '3', 'thread_ts': '1ef3861a-559e-6922-8003-12a5e7566e6a'}}, metadata={'source': 'loop', 'step': 3, 'writes': {'action': {'messages': [ToolMessage(content='[{\\'url\\': \\'https://www.weatherapi.com/\\', \\'content\\': \"{\\'location\\': {\\'name\\': \\'Louisiana\\', \\'region\\': \\'Missouri\\', \\'country\\': \\'USA United States of America\\', \\'lat\\': 39.44, \\'lon\\': -91.06, \\'tz_id\\': \\'America/Chicago\\', \\'localtime_epoch\\': 1719917689, \\'localtime\\': \\'2024-07-02 5:54\\'}, \\'current\\': {\\'last_updated_epoch\\': 1719917100, \\'last_updated\\': \\'2024-07-02 05:45\\', \\'temp_c\\': 17.9, \\'temp_f\\': 64.2, \\'is_day\\': 1, \\'condition\\': {\\'text\\': \\'Sunny\\', \\'icon\\': \\'//cdn.weatherapi.com/weather/64x64/day/113.png\\', \\'code\\': 1000}, \\'wind_mph\\': 6.9, \\'wind_kph\\': 11.2, \\'wind_degree\\': 140, \\'wind_dir\\': \\'SE\\', \\'pressure_mb\\': 1016.0, \\'pressure_in\\': 29.99, \\'precip_mm\\': 0.0, \\'precip_in\\': 0.0, \\'humidity\\': 78, \\'cloud\\': 0, \\'feelslike_c\\': 17.9, \\'feelslike_f\\': 64.2, \\'windchill_c\\': 17.9, \\'windchill_f\\': 64.3, \\'heatindex_c\\': 17.9, \\'heatindex_f\\': 64.3, \\'dewpoint_c\\': 13.2, \\'dewpoint_f\\': 55.7, \\'vis_km\\': 16.0, \\'vis_miles\\': 9.0, \\'uv\\': 1.0, \\'gust_mph\\': 22.1, \\'gust_kph\\': 35.6}}\"}, {\\'url\\': \\'https://www.wafb.com/2024/07/02/dangerous-heat-continues-tracking-category-five-beryl/\\', \\'content\\': \\'BATON ROUGE, La. (WAFB) - Today will feature another round of dangerous heat with an Excessive Heat Warning for heat index readings up to 115! Today will be a FIRST ALERT due to the heat warning ...\\'}]', name='tavily_search_results_json', id='a1380e31-4e93-4066-927e-94e965bf965b', tool_call_id='call_jVA1U88JtaP5731iQ1DM1P0V')]}}}, created_at='2024-07-02T10:55:50.889091+00:00', parent_config={'configurable': {'thread_id': '3', 'thread_ts': '1ef38619-5946-6479-8002-3695874be198'}})\n",
      "--\n",
      "StateSnapshot(values={'messages': [HumanMessage(content='Whats the weather in LA?', id='ab4e5c23-c6ca-40f4-8fad-77412b264a8e'), AIMessage(content='', additional_kwargs={'tool_calls': [{'id': 'call_jVA1U88JtaP5731iQ1DM1P0V', 'function': {'arguments': '{\"query\":\"weather in Los Angeles\"}', 'name': 'tavily_search_results_json'}, 'type': 'function'}]}, response_metadata={'token_usage': {'completion_tokens': 21, 'prompt_tokens': 152, 'total_tokens': 173}, 'model_name': 'gpt-3.5-turbo', 'system_fingerprint': None, 'finish_reason': 'tool_calls', 'logprobs': None}, id='run-e25ac16a-8a7b-4254-8c09-9b9299ddcdb6-0', tool_calls=[{'name': 'tavily_search_results_json', 'args': {'query': 'current weather in Louisiana'}, 'id': 'call_jVA1U88JtaP5731iQ1DM1P0V'}], usage_metadata={'input_tokens': 152, 'output_tokens': 21, 'total_tokens': 173})]}, next=('action',), config={'configurable': {'thread_id': '3', 'thread_ts': '1ef38619-5946-6479-8002-3695874be198'}}, metadata={'source': 'update', 'step': 2, 'writes': {'llm': {'messages': [HumanMessage(content='Whats the weather in LA?', id='ab4e5c23-c6ca-40f4-8fad-77412b264a8e'), AIMessage(content='', additional_kwargs={'tool_calls': [{'id': 'call_jVA1U88JtaP5731iQ1DM1P0V', 'function': {'arguments': '{\"query\":\"weather in Los Angeles\"}', 'name': 'tavily_search_results_json'}, 'type': 'function'}]}, response_metadata={'token_usage': {'completion_tokens': 21, 'prompt_tokens': 152, 'total_tokens': 173}, 'model_name': 'gpt-3.5-turbo', 'system_fingerprint': None, 'finish_reason': 'tool_calls', 'logprobs': None}, id='run-e25ac16a-8a7b-4254-8c09-9b9299ddcdb6-0', tool_calls=[{'name': 'tavily_search_results_json', 'args': {'query': 'current weather in Louisiana'}, 'id': 'call_jVA1U88JtaP5731iQ1DM1P0V'}], usage_metadata={'input_tokens': 152, 'output_tokens': 21, 'total_tokens': 173})]}}}, created_at='2024-07-02T10:55:24.428812+00:00', parent_config={'configurable': {'thread_id': '3', 'thread_ts': '1ef38618-2586-6377-8001-51a8288b1e20'}})\n",
      "--\n",
      "StateSnapshot(values={'messages': [HumanMessage(content='Whats the weather in LA?', id='ab4e5c23-c6ca-40f4-8fad-77412b264a8e'), AIMessage(content='', additional_kwargs={'tool_calls': [{'id': 'call_jVA1U88JtaP5731iQ1DM1P0V', 'function': {'arguments': '{\"query\":\"weather in Los Angeles\"}', 'name': 'tavily_search_results_json'}, 'type': 'function'}]}, response_metadata={'token_usage': {'completion_tokens': 21, 'prompt_tokens': 152, 'total_tokens': 173}, 'model_name': 'gpt-3.5-turbo', 'system_fingerprint': None, 'finish_reason': 'tool_calls', 'logprobs': None}, id='run-e25ac16a-8a7b-4254-8c09-9b9299ddcdb6-0', tool_calls=[{'name': 'tavily_search_results_json', 'args': {'query': 'weather in Los Angeles'}, 'id': 'call_jVA1U88JtaP5731iQ1DM1P0V'}], usage_metadata={'input_tokens': 152, 'output_tokens': 21, 'total_tokens': 173})]}, next=('action',), config={'configurable': {'thread_id': '3', 'thread_ts': '1ef38618-2586-6377-8001-51a8288b1e20'}}, metadata={'source': 'loop', 'step': 1, 'writes': {'llm': {'messages': [AIMessage(content='', additional_kwargs={'tool_calls': [{'id': 'call_jVA1U88JtaP5731iQ1DM1P0V', 'function': {'arguments': '{\"query\":\"weather in Los Angeles\"}', 'name': 'tavily_search_results_json'}, 'type': 'function'}]}, response_metadata={'token_usage': {'completion_tokens': 21, 'prompt_tokens': 152, 'total_tokens': 173}, 'model_name': 'gpt-3.5-turbo', 'system_fingerprint': None, 'finish_reason': 'tool_calls', 'logprobs': None}, id='run-e25ac16a-8a7b-4254-8c09-9b9299ddcdb6-0', tool_calls=[{'name': 'tavily_search_results_json', 'args': {'query': 'weather in Los Angeles'}, 'id': 'call_jVA1U88JtaP5731iQ1DM1P0V'}], usage_metadata={'input_tokens': 152, 'output_tokens': 21, 'total_tokens': 173})]}}}, created_at='2024-07-02T10:54:52.157745+00:00', parent_config={'configurable': {'thread_id': '3', 'thread_ts': '1ef38618-171f-6f29-8000-f86cf8ed9bb3'}})\n",
      "--\n",
      "StateSnapshot(values={'messages': [HumanMessage(content='Whats the weather in LA?', id='ab4e5c23-c6ca-40f4-8fad-77412b264a8e')]}, next=('llm',), config={'configurable': {'thread_id': '3', 'thread_ts': '1ef38618-171f-6f29-8000-f86cf8ed9bb3'}}, metadata={'source': 'loop', 'step': 0, 'writes': None}, created_at='2024-07-02T10:54:50.648963+00:00', parent_config={'configurable': {'thread_id': '3', 'thread_ts': '1ef38618-171f-6f28-bfff-210a332d426e'}})\n",
      "--\n",
      "StateSnapshot(values={'messages': []}, next=('__start__',), config={'configurable': {'thread_id': '3', 'thread_ts': '1ef38618-171f-6f28-bfff-210a332d426e'}}, metadata={'source': 'input', 'step': -1, 'writes': {'messages': [HumanMessage(content='Whats the weather in LA?')]}}, created_at='2024-07-02T10:54:50.648963+00:00', parent_config=None)\n",
      "--\n"
     ]
    }
   ],
   "source": [
    "states = []\n",
    "for state in abot.graph.get_state_history(thread):\n",
    "    print(state)\n",
    "    print('--')\n",
    "    states.append(state)"
   ]
  },
  {
   "cell_type": "markdown",
   "id": "449896c8-6ec6-4166-b640-9cd1530336a0",
   "metadata": {},
   "source": [
    "To fetch the same state as was filmed, the offset below is changed to `-3` from `-1`. This accounts for the initial state `__start__` and the first state that are now stored to state memory with the latest version of software."
   ]
  },
  {
   "cell_type": "code",
   "execution_count": 24,
   "id": "4871f644-b131-4065-b7ce-b82c20a41f11",
   "metadata": {
    "height": 29
   },
   "outputs": [],
   "source": [
    "to_replay = states[-3]"
   ]
  },
  {
   "cell_type": "code",
   "execution_count": 25,
   "id": "8c3d8070-3f36-4cf0-a677-508e54359c8f",
   "metadata": {
    "height": 29
   },
   "outputs": [
    {
     "data": {
      "text/plain": [
       "StateSnapshot(values={'messages': [HumanMessage(content='Whats the weather in LA?', id='ab4e5c23-c6ca-40f4-8fad-77412b264a8e'), AIMessage(content='', additional_kwargs={'tool_calls': [{'id': 'call_jVA1U88JtaP5731iQ1DM1P0V', 'function': {'arguments': '{\"query\":\"weather in Los Angeles\"}', 'name': 'tavily_search_results_json'}, 'type': 'function'}]}, response_metadata={'token_usage': {'completion_tokens': 21, 'prompt_tokens': 152, 'total_tokens': 173}, 'model_name': 'gpt-3.5-turbo', 'system_fingerprint': None, 'finish_reason': 'tool_calls', 'logprobs': None}, id='run-e25ac16a-8a7b-4254-8c09-9b9299ddcdb6-0', tool_calls=[{'name': 'tavily_search_results_json', 'args': {'query': 'weather in Los Angeles'}, 'id': 'call_jVA1U88JtaP5731iQ1DM1P0V'}], usage_metadata={'input_tokens': 152, 'output_tokens': 21, 'total_tokens': 173})]}, next=('action',), config={'configurable': {'thread_id': '3', 'thread_ts': '1ef38618-2586-6377-8001-51a8288b1e20'}}, metadata={'source': 'loop', 'step': 1, 'writes': {'llm': {'messages': [AIMessage(content='', additional_kwargs={'tool_calls': [{'id': 'call_jVA1U88JtaP5731iQ1DM1P0V', 'function': {'arguments': '{\"query\":\"weather in Los Angeles\"}', 'name': 'tavily_search_results_json'}, 'type': 'function'}]}, response_metadata={'token_usage': {'completion_tokens': 21, 'prompt_tokens': 152, 'total_tokens': 173}, 'model_name': 'gpt-3.5-turbo', 'system_fingerprint': None, 'finish_reason': 'tool_calls', 'logprobs': None}, id='run-e25ac16a-8a7b-4254-8c09-9b9299ddcdb6-0', tool_calls=[{'name': 'tavily_search_results_json', 'args': {'query': 'weather in Los Angeles'}, 'id': 'call_jVA1U88JtaP5731iQ1DM1P0V'}], usage_metadata={'input_tokens': 152, 'output_tokens': 21, 'total_tokens': 173})]}}}, created_at='2024-07-02T10:54:52.157745+00:00', parent_config={'configurable': {'thread_id': '3', 'thread_ts': '1ef38618-171f-6f29-8000-f86cf8ed9bb3'}})"
      ]
     },
     "execution_count": 25,
     "metadata": {},
     "output_type": "execute_result"
    }
   ],
   "source": [
    "to_replay"
   ]
  },
  {
   "cell_type": "code",
   "execution_count": 26,
   "id": "98f3be1d-cc4c-41fa-9863-3e386e88e305",
   "metadata": {
    "height": 80
   },
   "outputs": [
    {
     "name": "stdout",
     "output_type": "stream",
     "text": [
      "Calling: {'name': 'tavily_search_results_json', 'args': {'query': 'weather in Los Angeles'}, 'id': 'call_jVA1U88JtaP5731iQ1DM1P0V'}\n",
      "Back to the model!\n",
      "{'messages': [ToolMessage(content='[{\\'url\\': \\'https://www.weatherapi.com/\\', \\'content\\': \"{\\'location\\': {\\'name\\': \\'Los Angeles\\', \\'region\\': \\'California\\', \\'country\\': \\'United States of America\\', \\'lat\\': 34.05, \\'lon\\': -118.24, \\'tz_id\\': \\'America/Los_Angeles\\', \\'localtime_epoch\\': 1719917612, \\'localtime\\': \\'2024-07-02 3:53\\'}, \\'current\\': {\\'last_updated_epoch\\': 1719917100, \\'last_updated\\': \\'2024-07-02 03:45\\', \\'temp_c\\': 17.8, \\'temp_f\\': 64.0, \\'is_day\\': 0, \\'condition\\': {\\'text\\': \\'Overcast\\', \\'icon\\': \\'//cdn.weatherapi.com/weather/64x64/night/122.png\\', \\'code\\': 1009}, \\'wind_mph\\': 2.2, \\'wind_kph\\': 3.6, \\'wind_degree\\': 174, \\'wind_dir\\': \\'S\\', \\'pressure_mb\\': 1010.0, \\'pressure_in\\': 29.83, \\'precip_mm\\': 0.0, \\'precip_in\\': 0.0, \\'humidity\\': 87, \\'cloud\\': 100, \\'feelslike_c\\': 17.8, \\'feelslike_f\\': 64.0, \\'windchill_c\\': 20.3, \\'windchill_f\\': 68.5, \\'heatindex_c\\': 20.7, \\'heatindex_f\\': 69.2, \\'dewpoint_c\\': 12.9, \\'dewpoint_f\\': 55.3, \\'vis_km\\': 14.0, \\'vis_miles\\': 8.0, \\'uv\\': 1.0, \\'gust_mph\\': 5.5, \\'gust_kph\\': 8.9}}\"}, {\\'url\\': \\'https://www.timeanddate.com/weather/usa/los-angeles/historic?month=2&year=2024\\', \\'content\\': \\'Weather reports from February 2024 in Los Angeles, California, USA with highs and lows. Sign in. News. News Home; ... February 2024 Weather in Los Angeles — Graph °F. See Hour-by-hour Forecast for upcoming ... 29.66 \"Hg (Feb 6, 2:00 pm) Average: 57 °F: 77%: 30.02 \"Hg * Reported Feb 1 12:53 am — Feb 29 11:53 pm, Los Angeles. Weather by ...\\'}]', name='tavily_search_results_json', tool_call_id='call_jVA1U88JtaP5731iQ1DM1P0V')]}\n",
      "{'messages': [HumanMessage(content='Whats the weather in LA?', id='ab4e5c23-c6ca-40f4-8fad-77412b264a8e'), AIMessage(content='', additional_kwargs={'tool_calls': [{'id': 'call_jVA1U88JtaP5731iQ1DM1P0V', 'function': {'arguments': '{\"query\":\"weather in Los Angeles\"}', 'name': 'tavily_search_results_json'}, 'type': 'function'}]}, response_metadata={'token_usage': {'completion_tokens': 21, 'prompt_tokens': 152, 'total_tokens': 173}, 'model_name': 'gpt-3.5-turbo', 'system_fingerprint': None, 'finish_reason': 'tool_calls', 'logprobs': None}, id='run-e25ac16a-8a7b-4254-8c09-9b9299ddcdb6-0', tool_calls=[{'name': 'tavily_search_results_json', 'args': {'query': 'weather in Los Angeles'}, 'id': 'call_jVA1U88JtaP5731iQ1DM1P0V'}], usage_metadata={'input_tokens': 152, 'output_tokens': 21, 'total_tokens': 173}), ToolMessage(content='[{\\'url\\': \\'https://www.weatherapi.com/\\', \\'content\\': \"{\\'location\\': {\\'name\\': \\'Los Angeles\\', \\'region\\': \\'California\\', \\'country\\': \\'United States of America\\', \\'lat\\': 34.05, \\'lon\\': -118.24, \\'tz_id\\': \\'America/Los_Angeles\\', \\'localtime_epoch\\': 1719917612, \\'localtime\\': \\'2024-07-02 3:53\\'}, \\'current\\': {\\'last_updated_epoch\\': 1719917100, \\'last_updated\\': \\'2024-07-02 03:45\\', \\'temp_c\\': 17.8, \\'temp_f\\': 64.0, \\'is_day\\': 0, \\'condition\\': {\\'text\\': \\'Overcast\\', \\'icon\\': \\'//cdn.weatherapi.com/weather/64x64/night/122.png\\', \\'code\\': 1009}, \\'wind_mph\\': 2.2, \\'wind_kph\\': 3.6, \\'wind_degree\\': 174, \\'wind_dir\\': \\'S\\', \\'pressure_mb\\': 1010.0, \\'pressure_in\\': 29.83, \\'precip_mm\\': 0.0, \\'precip_in\\': 0.0, \\'humidity\\': 87, \\'cloud\\': 100, \\'feelslike_c\\': 17.8, \\'feelslike_f\\': 64.0, \\'windchill_c\\': 20.3, \\'windchill_f\\': 68.5, \\'heatindex_c\\': 20.7, \\'heatindex_f\\': 69.2, \\'dewpoint_c\\': 12.9, \\'dewpoint_f\\': 55.3, \\'vis_km\\': 14.0, \\'vis_miles\\': 8.0, \\'uv\\': 1.0, \\'gust_mph\\': 5.5, \\'gust_kph\\': 8.9}}\"}, {\\'url\\': \\'https://www.timeanddate.com/weather/usa/los-angeles/historic?month=2&year=2024\\', \\'content\\': \\'Weather reports from February 2024 in Los Angeles, California, USA with highs and lows. Sign in. News. News Home; ... February 2024 Weather in Los Angeles — Graph °F. See Hour-by-hour Forecast for upcoming ... 29.66 \"Hg (Feb 6, 2:00 pm) Average: 57 °F: 77%: 30.02 \"Hg * Reported Feb 1 12:53 am — Feb 29 11:53 pm, Los Angeles. Weather by ...\\'}]', name='tavily_search_results_json', id='424b107e-f46a-464c-99c4-b4d682776296', tool_call_id='call_jVA1U88JtaP5731iQ1DM1P0V'), AIMessage(content='The current weather in Los Angeles is 64.0°F (17.8°C) with an overcast condition. The wind is blowing at 2.2 mph from the south. The humidity is at 87%.', response_metadata={'token_usage': {'completion_tokens': 46, 'prompt_tokens': 742, 'total_tokens': 788}, 'model_name': 'gpt-3.5-turbo', 'system_fingerprint': None, 'finish_reason': 'stop', 'logprobs': None}, id='run-9bda264a-0a35-4a72-b735-b30f765ba0a7-0', usage_metadata={'input_tokens': 742, 'output_tokens': 46, 'total_tokens': 788})]}\n",
      "{'messages': [AIMessage(content='The current weather in Los Angeles is 64.0°F (17.8°C) with an overcast condition. The wind is blowing at 2.2 mph from the south. The humidity is at 87%.', response_metadata={'token_usage': {'completion_tokens': 46, 'prompt_tokens': 742, 'total_tokens': 788}, 'model_name': 'gpt-3.5-turbo', 'system_fingerprint': None, 'finish_reason': 'stop', 'logprobs': None}, id='run-9bda264a-0a35-4a72-b735-b30f765ba0a7-0', usage_metadata={'input_tokens': 742, 'output_tokens': 46, 'total_tokens': 788})]}\n"
     ]
    }
   ],
   "source": [
    "for event in abot.graph.stream(None, to_replay.config):\n",
    "    for k, v in event.items():\n",
    "        print(v)"
   ]
  },
  {
   "cell_type": "markdown",
   "id": "005353dc-630b-4b40-ab19-56c57ac06611",
   "metadata": {},
   "source": [
    "## Go back in time and edit"
   ]
  },
  {
   "cell_type": "code",
   "execution_count": 27,
   "id": "0ad8a6cc-65d4-4ce7-87aa-4e67d7c23d7b",
   "metadata": {
    "height": 29
   },
   "outputs": [
    {
     "data": {
      "text/plain": [
       "StateSnapshot(values={'messages': [HumanMessage(content='Whats the weather in LA?', id='ab4e5c23-c6ca-40f4-8fad-77412b264a8e'), AIMessage(content='', additional_kwargs={'tool_calls': [{'id': 'call_jVA1U88JtaP5731iQ1DM1P0V', 'function': {'arguments': '{\"query\":\"weather in Los Angeles\"}', 'name': 'tavily_search_results_json'}, 'type': 'function'}]}, response_metadata={'token_usage': {'completion_tokens': 21, 'prompt_tokens': 152, 'total_tokens': 173}, 'model_name': 'gpt-3.5-turbo', 'system_fingerprint': None, 'finish_reason': 'tool_calls', 'logprobs': None}, id='run-e25ac16a-8a7b-4254-8c09-9b9299ddcdb6-0', tool_calls=[{'name': 'tavily_search_results_json', 'args': {'query': 'weather in Los Angeles'}, 'id': 'call_jVA1U88JtaP5731iQ1DM1P0V'}], usage_metadata={'input_tokens': 152, 'output_tokens': 21, 'total_tokens': 173})]}, next=('action',), config={'configurable': {'thread_id': '3', 'thread_ts': '1ef38618-2586-6377-8001-51a8288b1e20'}}, metadata={'source': 'loop', 'step': 1, 'writes': {'llm': {'messages': [AIMessage(content='', additional_kwargs={'tool_calls': [{'id': 'call_jVA1U88JtaP5731iQ1DM1P0V', 'function': {'arguments': '{\"query\":\"weather in Los Angeles\"}', 'name': 'tavily_search_results_json'}, 'type': 'function'}]}, response_metadata={'token_usage': {'completion_tokens': 21, 'prompt_tokens': 152, 'total_tokens': 173}, 'model_name': 'gpt-3.5-turbo', 'system_fingerprint': None, 'finish_reason': 'tool_calls', 'logprobs': None}, id='run-e25ac16a-8a7b-4254-8c09-9b9299ddcdb6-0', tool_calls=[{'name': 'tavily_search_results_json', 'args': {'query': 'weather in Los Angeles'}, 'id': 'call_jVA1U88JtaP5731iQ1DM1P0V'}], usage_metadata={'input_tokens': 152, 'output_tokens': 21, 'total_tokens': 173})]}}}, created_at='2024-07-02T10:54:52.157745+00:00', parent_config={'configurable': {'thread_id': '3', 'thread_ts': '1ef38618-171f-6f29-8000-f86cf8ed9bb3'}})"
      ]
     },
     "execution_count": 27,
     "metadata": {},
     "output_type": "execute_result"
    }
   ],
   "source": [
    "to_replay"
   ]
  },
  {
   "cell_type": "code",
   "execution_count": 28,
   "id": "592b5e62-a203-433c-92a0-3783f490cde1",
   "metadata": {
    "height": 97
   },
   "outputs": [],
   "source": [
    "_id = to_replay.values['messages'][-1].tool_calls[0]['id']\n",
    "to_replay.values['messages'][-1].tool_calls = [{'name': 'tavily_search_results_json',\n",
    "  'args': {'query': 'current weather in LA, accuweather'},\n",
    "  'id': _id}]"
   ]
  },
  {
   "cell_type": "code",
   "execution_count": 29,
   "id": "14fa923c-7e4f-42d1-965f-0f8ccd50fbd7",
   "metadata": {
    "height": 46
   },
   "outputs": [
    {
     "name": "stdout",
     "output_type": "stream",
     "text": [
      "{'messages': [HumanMessage(content='Whats the weather in LA?', id='ab4e5c23-c6ca-40f4-8fad-77412b264a8e'), AIMessage(content='', additional_kwargs={'tool_calls': [{'id': 'call_jVA1U88JtaP5731iQ1DM1P0V', 'function': {'arguments': '{\"query\":\"weather in Los Angeles\"}', 'name': 'tavily_search_results_json'}, 'type': 'function'}]}, response_metadata={'token_usage': {'completion_tokens': 21, 'prompt_tokens': 152, 'total_tokens': 173}, 'model_name': 'gpt-3.5-turbo', 'system_fingerprint': None, 'finish_reason': 'tool_calls', 'logprobs': None}, id='run-e25ac16a-8a7b-4254-8c09-9b9299ddcdb6-0', tool_calls=[{'name': 'tavily_search_results_json', 'args': {'query': 'current weather in LA, accuweather'}, 'id': 'call_jVA1U88JtaP5731iQ1DM1P0V'}], usage_metadata={'input_tokens': 152, 'output_tokens': 21, 'total_tokens': 173})]}\n"
     ]
    }
   ],
   "source": [
    "branch_state = abot.graph.update_state(to_replay.config, to_replay.values)"
   ]
  },
  {
   "cell_type": "code",
   "execution_count": 30,
   "id": "570c6245-2837-4ac5-983b-95f61f3ac10d",
   "metadata": {
    "height": 97
   },
   "outputs": [
    {
     "name": "stdout",
     "output_type": "stream",
     "text": [
      "Calling: {'name': 'tavily_search_results_json', 'args': {'query': 'current weather in LA, accuweather'}, 'id': 'call_jVA1U88JtaP5731iQ1DM1P0V'}\n",
      "Back to the model!\n",
      "{'messages': [ToolMessage(content='[{\\'url\\': \\'https://www.accuweather.com/en/us/los-angeles/90012/current-weather/347625\\', \\'content\\': \\'Current weather in Los Angeles, CA. Check current conditions in Los Angeles, CA with radar, hourly, and more.\\'}, {\\'url\\': \\'https://www.weatherapi.com/\\', \\'content\\': \"{\\'location\\': {\\'name\\': \\'Los Angeles\\', \\'region\\': \\'California\\', \\'country\\': \\'United States of America\\', \\'lat\\': 34.05, \\'lon\\': -118.24, \\'tz_id\\': \\'America/Los_Angeles\\', \\'localtime_epoch\\': 1719917612, \\'localtime\\': \\'2024-07-02 3:53\\'}, \\'current\\': {\\'last_updated_epoch\\': 1719917100, \\'last_updated\\': \\'2024-07-02 03:45\\', \\'temp_c\\': 17.8, \\'temp_f\\': 64.0, \\'is_day\\': 0, \\'condition\\': {\\'text\\': \\'Overcast\\', \\'icon\\': \\'//cdn.weatherapi.com/weather/64x64/night/122.png\\', \\'code\\': 1009}, \\'wind_mph\\': 2.2, \\'wind_kph\\': 3.6, \\'wind_degree\\': 174, \\'wind_dir\\': \\'S\\', \\'pressure_mb\\': 1010.0, \\'pressure_in\\': 29.83, \\'precip_mm\\': 0.0, \\'precip_in\\': 0.0, \\'humidity\\': 87, \\'cloud\\': 100, \\'feelslike_c\\': 17.8, \\'feelslike_f\\': 64.0, \\'windchill_c\\': 20.3, \\'windchill_f\\': 68.5, \\'heatindex_c\\': 20.7, \\'heatindex_f\\': 69.2, \\'dewpoint_c\\': 12.9, \\'dewpoint_f\\': 55.3, \\'vis_km\\': 14.0, \\'vis_miles\\': 8.0, \\'uv\\': 1.0, \\'gust_mph\\': 5.5, \\'gust_kph\\': 8.9}}\"}]', name='tavily_search_results_json', tool_call_id='call_jVA1U88JtaP5731iQ1DM1P0V')]}\n",
      "{'messages': [HumanMessage(content='Whats the weather in LA?', id='ab4e5c23-c6ca-40f4-8fad-77412b264a8e'), AIMessage(content='', additional_kwargs={'tool_calls': [{'id': 'call_jVA1U88JtaP5731iQ1DM1P0V', 'function': {'arguments': '{\"query\":\"weather in Los Angeles\"}', 'name': 'tavily_search_results_json'}, 'type': 'function'}]}, response_metadata={'token_usage': {'completion_tokens': 21, 'prompt_tokens': 152, 'total_tokens': 173}, 'model_name': 'gpt-3.5-turbo', 'system_fingerprint': None, 'finish_reason': 'tool_calls', 'logprobs': None}, id='run-e25ac16a-8a7b-4254-8c09-9b9299ddcdb6-0', tool_calls=[{'name': 'tavily_search_results_json', 'args': {'query': 'current weather in LA, accuweather'}, 'id': 'call_jVA1U88JtaP5731iQ1DM1P0V'}], usage_metadata={'input_tokens': 152, 'output_tokens': 21, 'total_tokens': 173}), ToolMessage(content='[{\\'url\\': \\'https://www.accuweather.com/en/us/los-angeles/90012/current-weather/347625\\', \\'content\\': \\'Current weather in Los Angeles, CA. Check current conditions in Los Angeles, CA with radar, hourly, and more.\\'}, {\\'url\\': \\'https://www.weatherapi.com/\\', \\'content\\': \"{\\'location\\': {\\'name\\': \\'Los Angeles\\', \\'region\\': \\'California\\', \\'country\\': \\'United States of America\\', \\'lat\\': 34.05, \\'lon\\': -118.24, \\'tz_id\\': \\'America/Los_Angeles\\', \\'localtime_epoch\\': 1719917612, \\'localtime\\': \\'2024-07-02 3:53\\'}, \\'current\\': {\\'last_updated_epoch\\': 1719917100, \\'last_updated\\': \\'2024-07-02 03:45\\', \\'temp_c\\': 17.8, \\'temp_f\\': 64.0, \\'is_day\\': 0, \\'condition\\': {\\'text\\': \\'Overcast\\', \\'icon\\': \\'//cdn.weatherapi.com/weather/64x64/night/122.png\\', \\'code\\': 1009}, \\'wind_mph\\': 2.2, \\'wind_kph\\': 3.6, \\'wind_degree\\': 174, \\'wind_dir\\': \\'S\\', \\'pressure_mb\\': 1010.0, \\'pressure_in\\': 29.83, \\'precip_mm\\': 0.0, \\'precip_in\\': 0.0, \\'humidity\\': 87, \\'cloud\\': 100, \\'feelslike_c\\': 17.8, \\'feelslike_f\\': 64.0, \\'windchill_c\\': 20.3, \\'windchill_f\\': 68.5, \\'heatindex_c\\': 20.7, \\'heatindex_f\\': 69.2, \\'dewpoint_c\\': 12.9, \\'dewpoint_f\\': 55.3, \\'vis_km\\': 14.0, \\'vis_miles\\': 8.0, \\'uv\\': 1.0, \\'gust_mph\\': 5.5, \\'gust_kph\\': 8.9}}\"}]', name='tavily_search_results_json', id='1b951479-5ab1-4b5d-9cb4-b3271bfcf6e0', tool_call_id='call_jVA1U88JtaP5731iQ1DM1P0V'), AIMessage(content='The current weather in Los Angeles is overcast with a temperature of 64.0°F (17.8°C). The wind speed is 3.6 km/h coming from the south. The humidity is at 87%, and the visibility is 8.0 miles.', response_metadata={'token_usage': {'completion_tokens': 57, 'prompt_tokens': 655, 'total_tokens': 712}, 'model_name': 'gpt-3.5-turbo', 'system_fingerprint': None, 'finish_reason': 'stop', 'logprobs': None}, id='run-712e5576-c5a4-4ca4-b689-8c8c8230bc44-0', usage_metadata={'input_tokens': 655, 'output_tokens': 57, 'total_tokens': 712})]}\n",
      "{'messages': [AIMessage(content='The current weather in Los Angeles is overcast with a temperature of 64.0°F (17.8°C). The wind speed is 3.6 km/h coming from the south. The humidity is at 87%, and the visibility is 8.0 miles.', response_metadata={'token_usage': {'completion_tokens': 57, 'prompt_tokens': 655, 'total_tokens': 712}, 'model_name': 'gpt-3.5-turbo', 'system_fingerprint': None, 'finish_reason': 'stop', 'logprobs': None}, id='run-712e5576-c5a4-4ca4-b689-8c8c8230bc44-0', usage_metadata={'input_tokens': 655, 'output_tokens': 57, 'total_tokens': 712})]}\n"
     ]
    }
   ],
   "source": [
    "for event in abot.graph.stream(None, branch_state):\n",
    "    for k, v in event.items():\n",
    "        if k != \"__end__\":\n",
    "            print(v)"
   ]
  },
  {
   "cell_type": "markdown",
   "id": "f1016ce7-368d-4922-9044-fcdfd47c273b",
   "metadata": {},
   "source": [
    "## Add message to a state at a given time"
   ]
  },
  {
   "cell_type": "code",
   "execution_count": 31,
   "id": "6b910915-b087-4d35-afff-0ec30a5852f1",
   "metadata": {
    "height": 29
   },
   "outputs": [
    {
     "data": {
      "text/plain": [
       "StateSnapshot(values={'messages': [HumanMessage(content='Whats the weather in LA?', id='ab4e5c23-c6ca-40f4-8fad-77412b264a8e'), AIMessage(content='', additional_kwargs={'tool_calls': [{'id': 'call_jVA1U88JtaP5731iQ1DM1P0V', 'function': {'arguments': '{\"query\":\"weather in Los Angeles\"}', 'name': 'tavily_search_results_json'}, 'type': 'function'}]}, response_metadata={'token_usage': {'completion_tokens': 21, 'prompt_tokens': 152, 'total_tokens': 173}, 'model_name': 'gpt-3.5-turbo', 'system_fingerprint': None, 'finish_reason': 'tool_calls', 'logprobs': None}, id='run-e25ac16a-8a7b-4254-8c09-9b9299ddcdb6-0', tool_calls=[{'name': 'tavily_search_results_json', 'args': {'query': 'current weather in LA, accuweather'}, 'id': 'call_jVA1U88JtaP5731iQ1DM1P0V'}], usage_metadata={'input_tokens': 152, 'output_tokens': 21, 'total_tokens': 173})]}, next=('action',), config={'configurable': {'thread_id': '3', 'thread_ts': '1ef38618-2586-6377-8001-51a8288b1e20'}}, metadata={'source': 'loop', 'step': 1, 'writes': {'llm': {'messages': [AIMessage(content='', additional_kwargs={'tool_calls': [{'id': 'call_jVA1U88JtaP5731iQ1DM1P0V', 'function': {'arguments': '{\"query\":\"weather in Los Angeles\"}', 'name': 'tavily_search_results_json'}, 'type': 'function'}]}, response_metadata={'token_usage': {'completion_tokens': 21, 'prompt_tokens': 152, 'total_tokens': 173}, 'model_name': 'gpt-3.5-turbo', 'system_fingerprint': None, 'finish_reason': 'tool_calls', 'logprobs': None}, id='run-e25ac16a-8a7b-4254-8c09-9b9299ddcdb6-0', tool_calls=[{'name': 'tavily_search_results_json', 'args': {'query': 'weather in Los Angeles'}, 'id': 'call_jVA1U88JtaP5731iQ1DM1P0V'}], usage_metadata={'input_tokens': 152, 'output_tokens': 21, 'total_tokens': 173})]}}}, created_at='2024-07-02T10:54:52.157745+00:00', parent_config={'configurable': {'thread_id': '3', 'thread_ts': '1ef38618-171f-6f29-8000-f86cf8ed9bb3'}})"
      ]
     },
     "execution_count": 31,
     "metadata": {},
     "output_type": "execute_result"
    }
   ],
   "source": [
    "to_replay"
   ]
  },
  {
   "cell_type": "code",
   "execution_count": 32,
   "id": "c4feb6cc-5129-4a99-bb45-851bc07b5709",
   "metadata": {
    "height": 46
   },
   "outputs": [],
   "source": [
    "_id = to_replay.values['messages'][-1].tool_calls[0]['id']"
   ]
  },
  {
   "cell_type": "code",
   "execution_count": 33,
   "id": "e85a02b4-96cc-4b01-8792-397a774eb499",
   "metadata": {
    "height": 97
   },
   "outputs": [],
   "source": [
    "state_update = {\"messages\": [ToolMessage(\n",
    "    tool_call_id=_id,\n",
    "    name=\"tavily_search_results_json\",\n",
    "    content=\"54 degree celcius\",\n",
    ")]}"
   ]
  },
  {
   "cell_type": "code",
   "execution_count": 34,
   "id": "ae8b86a6-5e20-4252-b1d8-009b8318345a",
   "metadata": {
    "height": 80
   },
   "outputs": [],
   "source": [
    "branch_and_add = abot.graph.update_state(\n",
    "    to_replay.config, \n",
    "    state_update, \n",
    "    as_node=\"action\")"
   ]
  },
  {
   "cell_type": "code",
   "execution_count": 35,
   "id": "af925917-b746-48c9-ac74-62fefbe5246c",
   "metadata": {
    "height": 80
   },
   "outputs": [
    {
     "name": "stdout",
     "output_type": "stream",
     "text": [
      "{'messages': [HumanMessage(content='Whats the weather in LA?', id='ab4e5c23-c6ca-40f4-8fad-77412b264a8e'), AIMessage(content='', additional_kwargs={'tool_calls': [{'id': 'call_jVA1U88JtaP5731iQ1DM1P0V', 'function': {'arguments': '{\"query\":\"weather in Los Angeles\"}', 'name': 'tavily_search_results_json'}, 'type': 'function'}]}, response_metadata={'token_usage': {'completion_tokens': 21, 'prompt_tokens': 152, 'total_tokens': 173}, 'model_name': 'gpt-3.5-turbo', 'system_fingerprint': None, 'finish_reason': 'tool_calls', 'logprobs': None}, id='run-e25ac16a-8a7b-4254-8c09-9b9299ddcdb6-0', tool_calls=[{'name': 'tavily_search_results_json', 'args': {'query': 'weather in Los Angeles'}, 'id': 'call_jVA1U88JtaP5731iQ1DM1P0V'}], usage_metadata={'input_tokens': 152, 'output_tokens': 21, 'total_tokens': 173}), ToolMessage(content='54 degree celcius', name='tavily_search_results_json', id='0ebc65da-861b-47e0-a7db-87b51a2bb37f', tool_call_id='call_jVA1U88JtaP5731iQ1DM1P0V'), AIMessage(content='The current weather in Los Angeles is 54 degrees Celsius.', response_metadata={'token_usage': {'completion_tokens': 13, 'prompt_tokens': 190, 'total_tokens': 203}, 'model_name': 'gpt-3.5-turbo', 'system_fingerprint': None, 'finish_reason': 'stop', 'logprobs': None}, id='run-ffa3b997-1331-4501-adff-1163fac911ab-0', usage_metadata={'input_tokens': 190, 'output_tokens': 13, 'total_tokens': 203})]}\n",
      "{'messages': [AIMessage(content='The current weather in Los Angeles is 54 degrees Celsius.', response_metadata={'token_usage': {'completion_tokens': 13, 'prompt_tokens': 190, 'total_tokens': 203}, 'model_name': 'gpt-3.5-turbo', 'system_fingerprint': None, 'finish_reason': 'stop', 'logprobs': None}, id='run-ffa3b997-1331-4501-adff-1163fac911ab-0', usage_metadata={'input_tokens': 190, 'output_tokens': 13, 'total_tokens': 203})]}\n"
     ]
    }
   ],
   "source": [
    "for event in abot.graph.stream(None, branch_and_add):\n",
    "    for k, v in event.items():\n",
    "        print(v)"
   ]
  },
  {
   "cell_type": "markdown",
   "id": "a6b1de51-f1dd-4719-89e6-01c21d2b304e",
   "metadata": {},
   "source": [
    "# Extra Practice"
   ]
  },
  {
   "cell_type": "markdown",
   "id": "31e06033-59fd-4d6b-8891-fb8bc2d7a037",
   "metadata": {},
   "source": [
    "## Build a small graph\n",
    "This is a small simple graph you can tinker with if you want more insight into controlling state memory."
   ]
  },
  {
   "cell_type": "code",
   "execution_count": 36,
   "id": "7614683e-1c13-4518-b464-263fb91be761",
   "metadata": {
    "height": 63
   },
   "outputs": [],
   "source": [
    "from dotenv import load_dotenv\n",
    "\n",
    "_ = load_dotenv()"
   ]
  },
  {
   "cell_type": "code",
   "execution_count": 37,
   "id": "efbef86a-75fe-416f-99ab-70b181d934dc",
   "metadata": {
    "height": 97
   },
   "outputs": [],
   "source": [
    "from langgraph.graph import StateGraph, END\n",
    "from typing import TypedDict, Annotated\n",
    "import operator\n",
    "from langgraph.checkpoint.sqlite import SqliteSaver"
   ]
  },
  {
   "cell_type": "markdown",
   "id": "67c972f7-5a14-49da-9d82-37105a6637ed",
   "metadata": {},
   "source": [
    "Define a simple 2 node graph with the following state:\n",
    "-`lnode`: last node\n",
    "-`scratch`: a scratchpad location\n",
    "-`count` : a counter that is incremented each step"
   ]
  },
  {
   "cell_type": "code",
   "execution_count": 38,
   "id": "b846f637-5e98-4a7d-9ca0-5144302b7cef",
   "metadata": {
    "height": 80
   },
   "outputs": [],
   "source": [
    "class AgentState(TypedDict):\n",
    "    lnode: str\n",
    "    scratch: str\n",
    "    count: Annotated[int, operator.add]"
   ]
  },
  {
   "cell_type": "code",
   "execution_count": 39,
   "id": "b8bb1c6d-41b7-4f5b-807b-ecbdec82d8d6",
   "metadata": {
    "height": 182
   },
   "outputs": [],
   "source": [
    "def node1(state: AgentState):\n",
    "    print(f\"node1, count:{state['count']}\")\n",
    "    return {\"lnode\": \"node_1\",\n",
    "            \"count\": 1,\n",
    "           }\n",
    "def node2(state: AgentState):\n",
    "    print(f\"node2, count:{state['count']}\")\n",
    "    return {\"lnode\": \"node_2\",\n",
    "            \"count\": 1,\n",
    "           }"
   ]
  },
  {
   "cell_type": "markdown",
   "id": "6adc403b-10d2-4a6c-bd21-c84bb8e0c8fc",
   "metadata": {},
   "source": [
    "The graph goes N1->N2->N1... but breaks after count reaches 3."
   ]
  },
  {
   "cell_type": "code",
   "execution_count": 40,
   "id": "b2c6d249-4793-41c5-8e80-40f1eedc4baf",
   "metadata": {
    "height": 46
   },
   "outputs": [],
   "source": [
    "def should_continue(state):\n",
    "    return state[\"count\"] < 3"
   ]
  },
  {
   "cell_type": "code",
   "execution_count": 41,
   "id": "4e3721d9-4508-48fa-9be0-93af20144072",
   "metadata": {
    "height": 182
   },
   "outputs": [],
   "source": [
    "builder = StateGraph(AgentState)\n",
    "builder.add_node(\"Node1\", node1)\n",
    "builder.add_node(\"Node2\", node2)\n",
    "\n",
    "builder.add_edge(\"Node1\", \"Node2\")\n",
    "builder.add_conditional_edges(\"Node2\", \n",
    "                              should_continue, \n",
    "                              {True: \"Node1\", False: END})\n",
    "builder.set_entry_point(\"Node1\")"
   ]
  },
  {
   "cell_type": "code",
   "execution_count": 42,
   "id": "8d35d70c-daeb-49c1-9b7c-90cc2a7ca142",
   "metadata": {
    "height": 63
   },
   "outputs": [],
   "source": [
    "memory = SqliteSaver.from_conn_string(\":memory:\")\n",
    "graph = builder.compile(checkpointer=memory)"
   ]
  },
  {
   "cell_type": "markdown",
   "id": "c57051f5-f7fb-4be5-a2f5-21cb1aa4fecb",
   "metadata": {},
   "source": [
    "### Run it!\n",
    "Now, set the thread and run!"
   ]
  },
  {
   "cell_type": "code",
   "execution_count": 43,
   "id": "edba3a1a-84a7-45eb-a6ee-74a612b68d54",
   "metadata": {
    "height": 63
   },
   "outputs": [
    {
     "name": "stdout",
     "output_type": "stream",
     "text": [
      "node1, count:0\n",
      "node2, count:1\n",
      "node1, count:2\n",
      "node2, count:3\n"
     ]
    },
    {
     "data": {
      "text/plain": [
       "{'lnode': 'node_2', 'scratch': 'hi', 'count': 4}"
      ]
     },
     "execution_count": 43,
     "metadata": {},
     "output_type": "execute_result"
    }
   ],
   "source": [
    "thread = {\"configurable\": {\"thread_id\": str(1)}}\n",
    "graph.invoke({\"count\":0, \"scratch\":\"hi\"},thread)"
   ]
  },
  {
   "cell_type": "markdown",
   "id": "2ce7b035-bfdb-4642-8750-47d188277423",
   "metadata": {},
   "source": [
    "### Look at current state"
   ]
  },
  {
   "cell_type": "markdown",
   "id": "43324904-a6f4-4299-86de-e0218e4cb225",
   "metadata": {},
   "source": [
    "Get the current state. Note the `values` which are the AgentState. Note the `config` and the `thread_ts`. You will be using those to refer to snapshots below."
   ]
  },
  {
   "cell_type": "code",
   "execution_count": 44,
   "id": "f2513b41-31b2-46e6-84f6-0c519f697973",
   "metadata": {
    "height": 29
   },
   "outputs": [
    {
     "data": {
      "text/plain": [
       "StateSnapshot(values={'lnode': 'node_2', 'scratch': 'hi', 'count': 4}, next=(), config={'configurable': {'thread_id': '1', 'thread_ts': '1ef38620-3577-62df-8004-4893e73abae2'}}, metadata={'source': 'loop', 'step': 4, 'writes': {'Node2': {'lnode': 'node_2', 'count': 1}}}, created_at='2024-07-02T10:58:28.578786+00:00', parent_config={'configurable': {'thread_id': '1', 'thread_ts': '1ef38620-3577-62dd-8003-d4fea292da76'}})"
      ]
     },
     "execution_count": 44,
     "metadata": {},
     "output_type": "execute_result"
    }
   ],
   "source": [
    "graph.get_state(thread)"
   ]
  },
  {
   "cell_type": "markdown",
   "id": "7f7be4ae-24f0-4362-bd99-55ad38fe0112",
   "metadata": {},
   "source": [
    "View all the statesnapshots in memory. You can use the displayed `count` agentstate variable to help track what you see. Notice the most recent snapshots are returned by the iterator first. Also note that there is a handy `step` variable in the metadata that counts the number of steps in the graph execution. This is a bit detailed - but you can also notice that the *parent_config* is the *config* of the previous node. At initial startup, additional states are inserted into memory to create a parent. This is something to check when you branch or *time travel* below."
   ]
  },
  {
   "cell_type": "markdown",
   "id": "18647be0-c7c6-4ec5-9454-54a034fcd053",
   "metadata": {},
   "source": [
    "### Look at state history"
   ]
  },
  {
   "cell_type": "code",
   "execution_count": 45,
   "id": "686fa197-c97f-4ae6-82d2-938bbe5542c1",
   "metadata": {
    "height": 63
   },
   "outputs": [
    {
     "name": "stdout",
     "output_type": "stream",
     "text": [
      "StateSnapshot(values={'lnode': 'node_2', 'scratch': 'hi', 'count': 4}, next=(), config={'configurable': {'thread_id': '1', 'thread_ts': '1ef38620-3577-62df-8004-4893e73abae2'}}, metadata={'source': 'loop', 'step': 4, 'writes': {'Node2': {'lnode': 'node_2', 'count': 1}}}, created_at='2024-07-02T10:58:28.578786+00:00', parent_config={'configurable': {'thread_id': '1', 'thread_ts': '1ef38620-3577-62dd-8003-d4fea292da76'}}) \n",
      "\n",
      "StateSnapshot(values={'lnode': 'node_1', 'scratch': 'hi', 'count': 3}, next=('Node2',), config={'configurable': {'thread_id': '1', 'thread_ts': '1ef38620-3577-62dd-8003-d4fea292da76'}}, metadata={'source': 'loop', 'step': 3, 'writes': {'Node1': {'lnode': 'node_1', 'count': 1}}}, created_at='2024-07-02T10:58:28.578786+00:00', parent_config={'configurable': {'thread_id': '1', 'thread_ts': '1ef38620-3574-6eb0-8002-09a915926012'}}) \n",
      "\n",
      "StateSnapshot(values={'lnode': 'node_2', 'scratch': 'hi', 'count': 2}, next=('Node1',), config={'configurable': {'thread_id': '1', 'thread_ts': '1ef38620-3574-6eb0-8002-09a915926012'}}, metadata={'source': 'loop', 'step': 2, 'writes': {'Node2': {'lnode': 'node_2', 'count': 1}}}, created_at='2024-07-02T10:58:28.577860+00:00', parent_config={'configurable': {'thread_id': '1', 'thread_ts': '1ef38620-3563-6c5a-8001-4d365ab6b440'}}) \n",
      "\n",
      "StateSnapshot(values={'lnode': 'node_1', 'scratch': 'hi', 'count': 1}, next=('Node2',), config={'configurable': {'thread_id': '1', 'thread_ts': '1ef38620-3563-6c5a-8001-4d365ab6b440'}}, metadata={'source': 'loop', 'step': 1, 'writes': {'Node1': {'lnode': 'node_1', 'count': 1}}}, created_at='2024-07-02T10:58:28.570837+00:00', parent_config={'configurable': {'thread_id': '1', 'thread_ts': '1ef38620-3563-6c59-8000-7e28f8aa60a6'}}) \n",
      "\n",
      "StateSnapshot(values={'scratch': 'hi', 'count': 0}, next=('Node1',), config={'configurable': {'thread_id': '1', 'thread_ts': '1ef38620-3563-6c59-8000-7e28f8aa60a6'}}, metadata={'source': 'loop', 'step': 0, 'writes': None}, created_at='2024-07-02T10:58:28.570837+00:00', parent_config={'configurable': {'thread_id': '1', 'thread_ts': '1ef38620-3559-6f4e-bfff-fa1c2fa960b1'}}) \n",
      "\n",
      "StateSnapshot(values={'count': 0}, next=('__start__',), config={'configurable': {'thread_id': '1', 'thread_ts': '1ef38620-3559-6f4e-bfff-fa1c2fa960b1'}}, metadata={'source': 'input', 'step': -1, 'writes': {'count': 0, 'scratch': 'hi'}}, created_at='2024-07-02T10:58:28.566817+00:00', parent_config=None) \n",
      "\n"
     ]
    }
   ],
   "source": [
    "for state in graph.get_state_history(thread):\n",
    "    print(state, \"\\n\")"
   ]
  },
  {
   "cell_type": "markdown",
   "id": "dd7850ff-0748-43d7-8956-074fa9fd819f",
   "metadata": {},
   "source": [
    "Store just the `config` into an list. Note the sequence of counts on the right. `get_state_history` returns the most recent snapshots first."
   ]
  },
  {
   "cell_type": "code",
   "execution_count": 46,
   "id": "9f68e604-4f53-46c0-8f06-e7726ec9dcf6",
   "metadata": {
    "height": 97
   },
   "outputs": [
    {
     "name": "stdout",
     "output_type": "stream",
     "text": [
      "{'configurable': {'thread_id': '1', 'thread_ts': '1ef38620-3577-62df-8004-4893e73abae2'}} 4\n",
      "{'configurable': {'thread_id': '1', 'thread_ts': '1ef38620-3577-62dd-8003-d4fea292da76'}} 3\n",
      "{'configurable': {'thread_id': '1', 'thread_ts': '1ef38620-3574-6eb0-8002-09a915926012'}} 2\n",
      "{'configurable': {'thread_id': '1', 'thread_ts': '1ef38620-3563-6c5a-8001-4d365ab6b440'}} 1\n",
      "{'configurable': {'thread_id': '1', 'thread_ts': '1ef38620-3563-6c59-8000-7e28f8aa60a6'}} 0\n",
      "{'configurable': {'thread_id': '1', 'thread_ts': '1ef38620-3559-6f4e-bfff-fa1c2fa960b1'}} 0\n"
     ]
    }
   ],
   "source": [
    "states = []\n",
    "for state in graph.get_state_history(thread):\n",
    "    states.append(state.config)\n",
    "    print(state.config, state.values['count'])"
   ]
  },
  {
   "cell_type": "markdown",
   "id": "90790095-4080-4e76-b538-47caac7d9699",
   "metadata": {},
   "source": [
    "Grab an early state."
   ]
  },
  {
   "cell_type": "code",
   "execution_count": 47,
   "id": "e1db574e-f158-44cf-b921-f1f4466c314d",
   "metadata": {
    "height": 29
   },
   "outputs": [
    {
     "data": {
      "text/plain": [
       "{'configurable': {'thread_id': '1',\n",
       "  'thread_ts': '1ef38620-3563-6c5a-8001-4d365ab6b440'}}"
      ]
     },
     "execution_count": 47,
     "metadata": {},
     "output_type": "execute_result"
    }
   ],
   "source": [
    "states[-3]"
   ]
  },
  {
   "cell_type": "markdown",
   "id": "2cc233eb-f388-4ecd-bfb5-dac3568d37ce",
   "metadata": {},
   "source": [
    "This is the state after Node1 completed for the first time. Note `next` is `Node2`and `count` is 1."
   ]
  },
  {
   "cell_type": "code",
   "execution_count": 48,
   "id": "240f5039-7916-4c2a-88d5-d363b2898e70",
   "metadata": {
    "height": 29
   },
   "outputs": [
    {
     "data": {
      "text/plain": [
       "StateSnapshot(values={'lnode': 'node_1', 'scratch': 'hi', 'count': 1}, next=('Node2',), config={'configurable': {'thread_id': '1', 'thread_ts': '1ef38620-3563-6c5a-8001-4d365ab6b440'}}, metadata={'source': 'loop', 'step': 1, 'writes': {'Node1': {'lnode': 'node_1', 'count': 1}}}, created_at='2024-07-02T10:58:28.570837+00:00', parent_config={'configurable': {'thread_id': '1', 'thread_ts': '1ef38620-3563-6c59-8000-7e28f8aa60a6'}})"
      ]
     },
     "execution_count": 48,
     "metadata": {},
     "output_type": "execute_result"
    }
   ],
   "source": [
    "graph.get_state(states[-3])"
   ]
  },
  {
   "cell_type": "markdown",
   "id": "4872468e-4d23-4840-ae14-c06c1ab4f161",
   "metadata": {},
   "source": [
    "### Go Back in Time\n",
    "Use that state in `invoke` to go back in time. Notice it uses states[-3] as *current_state* and continues to node2,"
   ]
  },
  {
   "cell_type": "code",
   "execution_count": 49,
   "id": "e3049179-b901-4557-a9c4-78afb3d53d27",
   "metadata": {
    "height": 29
   },
   "outputs": [
    {
     "name": "stdout",
     "output_type": "stream",
     "text": [
      "node2, count:1\n",
      "node1, count:2\n",
      "node2, count:3\n"
     ]
    },
    {
     "data": {
      "text/plain": [
       "{'lnode': 'node_2', 'scratch': 'hi', 'count': 4}"
      ]
     },
     "execution_count": 49,
     "metadata": {},
     "output_type": "execute_result"
    }
   ],
   "source": [
    "graph.invoke(None, states[-3])"
   ]
  },
  {
   "cell_type": "markdown",
   "id": "5bf7789a-df3d-4c7e-8899-d96a99d45717",
   "metadata": {},
   "source": [
    "Notice the new states are now in state history. Notice the counts on the far right."
   ]
  },
  {
   "cell_type": "code",
   "execution_count": 50,
   "id": "37fa44ec-9bd1-484b-a415-cc5f50b6e799",
   "metadata": {
    "height": 80
   },
   "outputs": [
    {
     "name": "stdout",
     "output_type": "stream",
     "text": [
      "{'configurable': {'thread_id': '1', 'thread_ts': '1ef38621-be84-6345-8004-34cd02276427'}} 4\n",
      "{'configurable': {'thread_id': '1', 'thread_ts': '1ef38621-be6e-6e30-8003-928e4ef9cadd'}} 3\n",
      "{'configurable': {'thread_id': '1', 'thread_ts': '1ef38621-be6e-6e2f-8002-9d4b956a811d'}} 2\n",
      "{'configurable': {'thread_id': '1', 'thread_ts': '1ef38620-3577-62df-8004-4893e73abae2'}} 4\n",
      "{'configurable': {'thread_id': '1', 'thread_ts': '1ef38620-3577-62dd-8003-d4fea292da76'}} 3\n",
      "{'configurable': {'thread_id': '1', 'thread_ts': '1ef38620-3574-6eb0-8002-09a915926012'}} 2\n",
      "{'configurable': {'thread_id': '1', 'thread_ts': '1ef38620-3563-6c5a-8001-4d365ab6b440'}} 1\n",
      "{'configurable': {'thread_id': '1', 'thread_ts': '1ef38620-3563-6c59-8000-7e28f8aa60a6'}} 0\n",
      "{'configurable': {'thread_id': '1', 'thread_ts': '1ef38620-3559-6f4e-bfff-fa1c2fa960b1'}} 0\n"
     ]
    }
   ],
   "source": [
    "thread = {\"configurable\": {\"thread_id\": str(1)}}\n",
    "for state in graph.get_state_history(thread):\n",
    "    print(state.config, state.values['count'])"
   ]
  },
  {
   "cell_type": "markdown",
   "id": "d3c8d305-6752-4cf6-a8cb-7babf3bbd643",
   "metadata": {},
   "source": [
    "You can see the details below. Lots of text, but try to find the node that start the new branch. Notice the parent *config* is not the previous entry in the stack, but is the entry from state[-3]."
   ]
  },
  {
   "cell_type": "code",
   "execution_count": 51,
   "id": "07d25697-fcf0-4a26-9485-3e195b0af225",
   "metadata": {
    "height": 80
   },
   "outputs": [
    {
     "name": "stdout",
     "output_type": "stream",
     "text": [
      "StateSnapshot(values={'lnode': 'node_2', 'scratch': 'hi', 'count': 4}, next=(), config={'configurable': {'thread_id': '1', 'thread_ts': '1ef38621-be84-6345-8004-34cd02276427'}}, metadata={'source': 'loop', 'step': 4, 'writes': {'Node2': {'lnode': 'node_2', 'count': 1}}}, created_at='2024-07-02T10:59:09.793158+00:00', parent_config={'configurable': {'thread_id': '1', 'thread_ts': '1ef38621-be6e-6e30-8003-928e4ef9cadd'}}) \n",
      "\n",
      "StateSnapshot(values={'lnode': 'node_1', 'scratch': 'hi', 'count': 3}, next=('Node2',), config={'configurable': {'thread_id': '1', 'thread_ts': '1ef38621-be6e-6e30-8003-928e4ef9cadd'}}, metadata={'source': 'loop', 'step': 3, 'writes': {'Node1': {'lnode': 'node_1', 'count': 1}}}, created_at='2024-07-02T10:59:09.784427+00:00', parent_config={'configurable': {'thread_id': '1', 'thread_ts': '1ef38621-be6e-6e2f-8002-9d4b956a811d'}}) \n",
      "\n",
      "StateSnapshot(values={'lnode': 'node_2', 'scratch': 'hi', 'count': 2}, next=('Node1',), config={'configurable': {'thread_id': '1', 'thread_ts': '1ef38621-be6e-6e2f-8002-9d4b956a811d'}}, metadata={'source': 'loop', 'step': 2, 'writes': {'Node2': {'lnode': 'node_2', 'count': 1}}}, created_at='2024-07-02T10:59:09.784427+00:00', parent_config={'configurable': {'thread_id': '1', 'thread_ts': '1ef38620-3563-6c5a-8001-4d365ab6b440'}}) \n",
      "\n",
      "StateSnapshot(values={'lnode': 'node_2', 'scratch': 'hi', 'count': 4}, next=(), config={'configurable': {'thread_id': '1', 'thread_ts': '1ef38620-3577-62df-8004-4893e73abae2'}}, metadata={'source': 'loop', 'step': 4, 'writes': {'Node2': {'lnode': 'node_2', 'count': 1}}}, created_at='2024-07-02T10:58:28.578786+00:00', parent_config={'configurable': {'thread_id': '1', 'thread_ts': '1ef38620-3577-62dd-8003-d4fea292da76'}}) \n",
      "\n",
      "StateSnapshot(values={'lnode': 'node_1', 'scratch': 'hi', 'count': 3}, next=('Node2',), config={'configurable': {'thread_id': '1', 'thread_ts': '1ef38620-3577-62dd-8003-d4fea292da76'}}, metadata={'source': 'loop', 'step': 3, 'writes': {'Node1': {'lnode': 'node_1', 'count': 1}}}, created_at='2024-07-02T10:58:28.578786+00:00', parent_config={'configurable': {'thread_id': '1', 'thread_ts': '1ef38620-3574-6eb0-8002-09a915926012'}}) \n",
      "\n",
      "StateSnapshot(values={'lnode': 'node_2', 'scratch': 'hi', 'count': 2}, next=('Node1',), config={'configurable': {'thread_id': '1', 'thread_ts': '1ef38620-3574-6eb0-8002-09a915926012'}}, metadata={'source': 'loop', 'step': 2, 'writes': {'Node2': {'lnode': 'node_2', 'count': 1}}}, created_at='2024-07-02T10:58:28.577860+00:00', parent_config={'configurable': {'thread_id': '1', 'thread_ts': '1ef38620-3563-6c5a-8001-4d365ab6b440'}}) \n",
      "\n",
      "StateSnapshot(values={'lnode': 'node_1', 'scratch': 'hi', 'count': 1}, next=('Node2',), config={'configurable': {'thread_id': '1', 'thread_ts': '1ef38620-3563-6c5a-8001-4d365ab6b440'}}, metadata={'source': 'loop', 'step': 1, 'writes': {'Node1': {'lnode': 'node_1', 'count': 1}}}, created_at='2024-07-02T10:58:28.570837+00:00', parent_config={'configurable': {'thread_id': '1', 'thread_ts': '1ef38620-3563-6c59-8000-7e28f8aa60a6'}}) \n",
      "\n",
      "StateSnapshot(values={'scratch': 'hi', 'count': 0}, next=('Node1',), config={'configurable': {'thread_id': '1', 'thread_ts': '1ef38620-3563-6c59-8000-7e28f8aa60a6'}}, metadata={'source': 'loop', 'step': 0, 'writes': None}, created_at='2024-07-02T10:58:28.570837+00:00', parent_config={'configurable': {'thread_id': '1', 'thread_ts': '1ef38620-3559-6f4e-bfff-fa1c2fa960b1'}}) \n",
      "\n",
      "StateSnapshot(values={'count': 0}, next=('__start__',), config={'configurable': {'thread_id': '1', 'thread_ts': '1ef38620-3559-6f4e-bfff-fa1c2fa960b1'}}, metadata={'source': 'input', 'step': -1, 'writes': {'count': 0, 'scratch': 'hi'}}, created_at='2024-07-02T10:58:28.566817+00:00', parent_config=None) \n",
      "\n"
     ]
    }
   ],
   "source": [
    "thread = {\"configurable\": {\"thread_id\": str(1)}}\n",
    "for state in graph.get_state_history(thread):\n",
    "    print(state,\"\\n\")"
   ]
  },
  {
   "cell_type": "markdown",
   "id": "d4653f91-761c-4185-8ca2-83de758308c7",
   "metadata": {},
   "source": [
    "### Modify State\n",
    "Let's start by starting a fresh thread and running to clean out history."
   ]
  },
  {
   "cell_type": "code",
   "execution_count": 52,
   "id": "0eaf346c-ce22-4b6a-b18f-d200dfd991de",
   "metadata": {
    "height": 63
   },
   "outputs": [
    {
     "name": "stdout",
     "output_type": "stream",
     "text": [
      "node1, count:0\n",
      "node2, count:1\n",
      "node1, count:2\n",
      "node2, count:3\n"
     ]
    },
    {
     "data": {
      "text/plain": [
       "{'lnode': 'node_2', 'scratch': 'hi', 'count': 4}"
      ]
     },
     "execution_count": 52,
     "metadata": {},
     "output_type": "execute_result"
    }
   ],
   "source": [
    "thread2 = {\"configurable\": {\"thread_id\": str(2)}}\n",
    "graph.invoke({\"count\":0, \"scratch\":\"hi\"},thread2)"
   ]
  },
  {
   "cell_type": "code",
   "execution_count": 53,
   "id": "90fc1797-25e6-4931-b173-2e520b71c372",
   "metadata": {
    "height": 63
   },
   "outputs": [
    {
     "data": {
      "image/png": "[encoded data removed]",
      "text/plain": [
       "<IPython.core.display.Image object>"
      ]
     },
     "execution_count": 53,
     "metadata": {},
     "output_type": "execute_result"
    }
   ],
   "source": [
    "from IPython.display import Image\n",
    "\n",
    "Image(graph.get_graph().draw_png())"
   ]
  },
  {
   "cell_type": "code",
   "execution_count": 54,
   "id": "4ede9215-3133-4ad9-8dd5-6a8288ebe055",
   "metadata": {
    "height": 97
   },
   "outputs": [
    {
     "name": "stdout",
     "output_type": "stream",
     "text": [
      "{'configurable': {'thread_id': '2', 'thread_ts': '1ef38622-9b2f-6bf3-8004-2287689a9778'}} 4\n",
      "{'configurable': {'thread_id': '2', 'thread_ts': '1ef38622-9b2d-613c-8003-d837cd37e2f5'}} 3\n",
      "{'configurable': {'thread_id': '2', 'thread_ts': '1ef38622-9b28-631d-8002-99824c06ff7d'}} 2\n",
      "{'configurable': {'thread_id': '2', 'thread_ts': '1ef38622-9b23-6683-8001-48664d9518ca'}} 1\n",
      "{'configurable': {'thread_id': '2', 'thread_ts': '1ef38622-9b18-6a19-8000-8cf6e85e627e'}} 0\n",
      "{'configurable': {'thread_id': '2', 'thread_ts': '1ef38622-9b12-62f0-bfff-c7e55cb9187f'}} 0\n"
     ]
    }
   ],
   "source": [
    "states2 = []\n",
    "for state in graph.get_state_history(thread2):\n",
    "    states2.append(state.config)\n",
    "    print(state.config, state.values['count'])   "
   ]
  },
  {
   "cell_type": "markdown",
   "id": "23ab2c5f-cb1d-4851-8925-ce0af1f12a40",
   "metadata": {},
   "source": [
    "Start by grabbing a state."
   ]
  },
  {
   "cell_type": "code",
   "execution_count": 55,
   "id": "65313f6a-c7a9-49e3-aab2-0eb905e74a91",
   "metadata": {
    "height": 46
   },
   "outputs": [
    {
     "data": {
      "text/plain": [
       "StateSnapshot(values={'lnode': 'node_1', 'scratch': 'hi', 'count': 1}, next=('Node2',), config={'configurable': {'thread_id': '2', 'thread_ts': '1ef38622-9b23-6683-8001-48664d9518ca'}}, metadata={'source': 'loop', 'step': 1, 'writes': {'Node1': {'lnode': 'node_1', 'count': 1}}}, created_at='2024-07-02T10:59:32.927040+00:00', parent_config={'configurable': {'thread_id': '2', 'thread_ts': '1ef38622-9b18-6a19-8000-8cf6e85e627e'}})"
      ]
     },
     "execution_count": 55,
     "metadata": {},
     "output_type": "execute_result"
    }
   ],
   "source": [
    "save_state = graph.get_state(states2[-3])\n",
    "save_state"
   ]
  },
  {
   "cell_type": "markdown",
   "id": "c81b354b-8c2d-4150-9150-ac9d8486af02",
   "metadata": {},
   "source": [
    "Now modify the values. One subtle item to note: Recall when agent state was defined, `count` used `operator.add` to indicate that values are *added* to the current value. Here, `-3` will be added to the current count value rather than replace it."
   ]
  },
  {
   "cell_type": "code",
   "execution_count": 56,
   "id": "dae6527b-912f-4f86-a07b-1fae684aaa77",
   "metadata": {
    "height": 63
   },
   "outputs": [
    {
     "data": {
      "text/plain": [
       "StateSnapshot(values={'lnode': 'node_1', 'scratch': 'hello', 'count': -3}, next=('Node2',), config={'configurable': {'thread_id': '2', 'thread_ts': '1ef38622-9b23-6683-8001-48664d9518ca'}}, metadata={'source': 'loop', 'step': 1, 'writes': {'Node1': {'lnode': 'node_1', 'count': 1}}}, created_at='2024-07-02T10:59:32.927040+00:00', parent_config={'configurable': {'thread_id': '2', 'thread_ts': '1ef38622-9b18-6a19-8000-8cf6e85e627e'}})"
      ]
     },
     "execution_count": 56,
     "metadata": {},
     "output_type": "execute_result"
    }
   ],
   "source": [
    "save_state.values[\"count\"] = -3\n",
    "save_state.values[\"scratch\"] = \"hello\"\n",
    "save_state"
   ]
  },
  {
   "cell_type": "markdown",
   "id": "904bb1eb-2e39-472f-ae56-d8e95e2f1ab6",
   "metadata": {},
   "source": [
    "Now update the state. This creates a new entry at the *top*, or *latest* entry in memory. This will become the current state."
   ]
  },
  {
   "cell_type": "code",
   "execution_count": 57,
   "id": "bcd78670-b119-45fa-934b-2ce2d477b4c2",
   "metadata": {
    "height": 46
   },
   "outputs": [
    {
     "data": {
      "text/plain": [
       "{'configurable': {'thread_id': '2',\n",
       "  'thread_ts': '1ef38623-76fc-61b4-8005-843eea535b92'}}"
      ]
     },
     "execution_count": 57,
     "metadata": {},
     "output_type": "execute_result"
    }
   ],
   "source": [
    "graph.update_state(thread2,save_state.values)"
   ]
  },
  {
   "cell_type": "markdown",
   "id": "1bb3beed-1c44-4364-bde9-b29ea5e8ca30",
   "metadata": {},
   "source": [
    "Current state is at the top. You can match the `thread_ts`.\n",
    "Notice the `parent_config`, `thread_ts` of the new node - it is the previous node."
   ]
  },
  {
   "cell_type": "code",
   "execution_count": 58,
   "id": "231c7011-afe4-44bf-9e19-16220004912f",
   "metadata": {
    "height": 97
   },
   "outputs": [
    {
     "name": "stdout",
     "output_type": "stream",
     "text": [
      "StateSnapshot(values={'lnode': 'node_1', 'scratch': 'hello', 'count': 1}, next=('Node1',), config={'configurable': {'thread_id': '2', 'thread_ts': '1ef38623-76fc-61b4-8005-843eea535b92'}}, metadata={'source': 'update', 'step': 5, 'writes': {'Node2': {'lnode': 'node_1', 'scratch': 'hello', 'count': -3}}}, created_at='2024-07-02T10:59:55.979614+00:00', parent_config={'configurable': {'thread_id': '2', 'thread_ts': '1ef38622-9b2f-6bf3-8004-2287689a9778'}}) \n",
      "\n",
      "StateSnapshot(values={'lnode': 'node_2', 'scratch': 'hi', 'count': 4}, next=(), config={'configurable': {'thread_id': '2', 'thread_ts': '1ef38622-9b2f-6bf3-8004-2287689a9778'}}, metadata={'source': 'loop', 'step': 4, 'writes': {'Node2': {'lnode': 'node_2', 'count': 1}}}, created_at='2024-07-02T10:59:32.932094+00:00', parent_config={'configurable': {'thread_id': '2', 'thread_ts': '1ef38622-9b2d-613c-8003-d837cd37e2f5'}}) \n",
      "\n",
      "StateSnapshot(values={'lnode': 'node_1', 'scratch': 'hi', 'count': 3}, next=('Node2',), config={'configurable': {'thread_id': '2', 'thread_ts': '1ef38622-9b2d-613c-8003-d837cd37e2f5'}}, metadata={'source': 'loop', 'step': 3, 'writes': {'Node1': {'lnode': 'node_1', 'count': 1}}}, created_at='2024-07-02T10:59:32.931001+00:00', parent_config={'configurable': {'thread_id': '2', 'thread_ts': '1ef38622-9b28-631d-8002-99824c06ff7d'}}) \n",
      "\n"
     ]
    }
   ],
   "source": [
    "for i, state in enumerate(graph.get_state_history(thread2)):\n",
    "    if i >= 3:  #print latest 3\n",
    "        break\n",
    "    print(state, '\\n')"
   ]
  },
  {
   "cell_type": "markdown",
   "id": "62d34cd8-99b6-4224-b345-fe8475f2a602",
   "metadata": {},
   "source": [
    "### Try again with `as_node`\n",
    "When writing using `update_state()`, you want to define to the graph logic which node should be assumed as the writer. What this does is allow th graph logic to find the node on the graph. After writing the values, the `next()` value is computed by travesing the graph using the new state. In this case, the state we have was written by `Node1`. The graph can then compute the next state as being `Node2`. Note that in some graphs, this may involve going through conditional edges!  Let's try this out."
   ]
  },
  {
   "cell_type": "code",
   "execution_count": 59,
   "id": "7bfda2f6-5887-40fa-a733-a4357ad857d8",
   "metadata": {
    "height": 46
   },
   "outputs": [
    {
     "data": {
      "text/plain": [
       "{'configurable': {'thread_id': '2',\n",
       "  'thread_ts': '1ef38623-b8f1-6b32-8006-e83676afb616'}}"
      ]
     },
     "execution_count": 59,
     "metadata": {},
     "output_type": "execute_result"
    }
   ],
   "source": [
    "graph.update_state(thread2,save_state.values, as_node=\"Node1\")"
   ]
  },
  {
   "cell_type": "code",
   "execution_count": 60,
   "id": "0788ac0f-5f64-49b2-b335-3094bbb19143",
   "metadata": {
    "height": 97
   },
   "outputs": [
    {
     "name": "stdout",
     "output_type": "stream",
     "text": [
      "StateSnapshot(values={'lnode': 'node_1', 'scratch': 'hello', 'count': -2}, next=('Node2',), config={'configurable': {'thread_id': '2', 'thread_ts': '1ef38623-b8f1-6b32-8006-e83676afb616'}}, metadata={'source': 'update', 'step': 6, 'writes': {'Node1': {'lnode': 'node_1', 'scratch': 'hello', 'count': -3}}}, created_at='2024-07-02T11:00:02.895953+00:00', parent_config={'configurable': {'thread_id': '2', 'thread_ts': '1ef38623-76fc-61b4-8005-843eea535b92'}}) \n",
      "\n",
      "StateSnapshot(values={'lnode': 'node_1', 'scratch': 'hello', 'count': 1}, next=('Node1',), config={'configurable': {'thread_id': '2', 'thread_ts': '1ef38623-76fc-61b4-8005-843eea535b92'}}, metadata={'source': 'update', 'step': 5, 'writes': {'Node2': {'lnode': 'node_1', 'scratch': 'hello', 'count': -3}}}, created_at='2024-07-02T10:59:55.979614+00:00', parent_config={'configurable': {'thread_id': '2', 'thread_ts': '1ef38622-9b2f-6bf3-8004-2287689a9778'}}) \n",
      "\n",
      "StateSnapshot(values={'lnode': 'node_2', 'scratch': 'hi', 'count': 4}, next=(), config={'configurable': {'thread_id': '2', 'thread_ts': '1ef38622-9b2f-6bf3-8004-2287689a9778'}}, metadata={'source': 'loop', 'step': 4, 'writes': {'Node2': {'lnode': 'node_2', 'count': 1}}}, created_at='2024-07-02T10:59:32.932094+00:00', parent_config={'configurable': {'thread_id': '2', 'thread_ts': '1ef38622-9b2d-613c-8003-d837cd37e2f5'}}) \n",
      "\n"
     ]
    }
   ],
   "source": [
    "for i, state in enumerate(graph.get_state_history(thread2)):\n",
    "    if i >= 3:  #print latest 3\n",
    "        break\n",
    "    print(state, '\\n')"
   ]
  },
  {
   "cell_type": "markdown",
   "id": "18a8f52e-d1a6-46a0-a519-6fda0cb91624",
   "metadata": {},
   "source": [
    "`invoke` will run from the current state if not given a particular `thread_ts`. This is now the entry that was just added."
   ]
  },
  {
   "cell_type": "code",
   "execution_count": 61,
   "id": "9650d355-07c1-4a7d-a21d-4231673a7ee9",
   "metadata": {
    "height": 29
   },
   "outputs": [
    {
     "name": "stdout",
     "output_type": "stream",
     "text": [
      "node2, count:-2\n",
      "node1, count:-1\n",
      "node2, count:0\n",
      "node1, count:1\n",
      "node2, count:2\n"
     ]
    },
    {
     "data": {
      "text/plain": [
       "{'lnode': 'node_2', 'scratch': 'hello', 'count': 3}"
      ]
     },
     "execution_count": 61,
     "metadata": {},
     "output_type": "execute_result"
    }
   ],
   "source": [
    "graph.invoke(None,thread2)"
   ]
  },
  {
   "cell_type": "markdown",
   "id": "c59d3069-8fe7-4a05-9bfd-8e3a2e4590ad",
   "metadata": {},
   "source": [
    "Print out the state history, notice the `scratch` value change on the latest entries."
   ]
  },
  {
   "cell_type": "code",
   "execution_count": 62,
   "id": "35088704-2b18-4d44-ba0e-dccbfde6ed9e",
   "metadata": {
    "height": 63
   },
   "outputs": [
    {
     "name": "stdout",
     "output_type": "stream",
     "text": [
      "StateSnapshot(values={'lnode': 'node_2', 'scratch': 'hello', 'count': 3}, next=(), config={'configurable': {'thread_id': '2', 'thread_ts': '1ef38624-062a-6cb8-800b-18a1cdfc81ef'}}, metadata={'source': 'loop', 'step': 11, 'writes': {'Node2': {'lnode': 'node_2', 'count': 1}}}, created_at='2024-07-02T11:00:10.993374+00:00', parent_config={'configurable': {'thread_id': '2', 'thread_ts': '1ef38624-062a-6cb6-800a-945b3981b321'}}) \n",
      "\n",
      "StateSnapshot(values={'lnode': 'node_1', 'scratch': 'hello', 'count': 2}, next=('Node2',), config={'configurable': {'thread_id': '2', 'thread_ts': '1ef38624-062a-6cb6-800a-945b3981b321'}}, metadata={'source': 'loop', 'step': 10, 'writes': {'Node1': {'lnode': 'node_1', 'count': 1}}}, created_at='2024-07-02T11:00:10.993374+00:00', parent_config={'configurable': {'thread_id': '2', 'thread_ts': '1ef38624-062a-6cb5-8009-f3145fed93db'}}) \n",
      "\n",
      "StateSnapshot(values={'lnode': 'node_2', 'scratch': 'hello', 'count': 1}, next=('Node1',), config={'configurable': {'thread_id': '2', 'thread_ts': '1ef38624-062a-6cb5-8009-f3145fed93db'}}, metadata={'source': 'loop', 'step': 9, 'writes': {'Node2': {'lnode': 'node_2', 'count': 1}}}, created_at='2024-07-02T11:00:10.993374+00:00', parent_config={'configurable': {'thread_id': '2', 'thread_ts': '1ef38624-062a-6cb3-8008-fe86e5b8ffb6'}}) \n",
      "\n",
      "StateSnapshot(values={'lnode': 'node_1', 'scratch': 'hello', 'count': 0}, next=('Node2',), config={'configurable': {'thread_id': '2', 'thread_ts': '1ef38624-062a-6cb3-8008-fe86e5b8ffb6'}}, metadata={'source': 'loop', 'step': 8, 'writes': {'Node1': {'lnode': 'node_1', 'count': 1}}}, created_at='2024-07-02T11:00:10.993374+00:00', parent_config={'configurable': {'thread_id': '2', 'thread_ts': '1ef38624-0623-671b-8007-585201e141f2'}}) \n",
      "\n",
      "StateSnapshot(values={'lnode': 'node_2', 'scratch': 'hello', 'count': -1}, next=('Node1',), config={'configurable': {'thread_id': '2', 'thread_ts': '1ef38624-0623-671b-8007-585201e141f2'}}, metadata={'source': 'loop', 'step': 7, 'writes': {'Node2': {'lnode': 'node_2', 'count': 1}}}, created_at='2024-07-02T11:00:10.990364+00:00', parent_config={'configurable': {'thread_id': '2', 'thread_ts': '1ef38623-b8f1-6b32-8006-e83676afb616'}}) \n",
      "\n",
      "StateSnapshot(values={'lnode': 'node_1', 'scratch': 'hello', 'count': -2}, next=('Node2',), config={'configurable': {'thread_id': '2', 'thread_ts': '1ef38623-b8f1-6b32-8006-e83676afb616'}}, metadata={'source': 'update', 'step': 6, 'writes': {'Node1': {'lnode': 'node_1', 'scratch': 'hello', 'count': -3}}}, created_at='2024-07-02T11:00:02.895953+00:00', parent_config={'configurable': {'thread_id': '2', 'thread_ts': '1ef38623-76fc-61b4-8005-843eea535b92'}}) \n",
      "\n",
      "StateSnapshot(values={'lnode': 'node_1', 'scratch': 'hello', 'count': 1}, next=('Node1',), config={'configurable': {'thread_id': '2', 'thread_ts': '1ef38623-76fc-61b4-8005-843eea535b92'}}, metadata={'source': 'update', 'step': 5, 'writes': {'Node2': {'lnode': 'node_1', 'scratch': 'hello', 'count': -3}}}, created_at='2024-07-02T10:59:55.979614+00:00', parent_config={'configurable': {'thread_id': '2', 'thread_ts': '1ef38622-9b2f-6bf3-8004-2287689a9778'}}) \n",
      "\n",
      "StateSnapshot(values={'lnode': 'node_2', 'scratch': 'hi', 'count': 4}, next=(), config={'configurable': {'thread_id': '2', 'thread_ts': '1ef38622-9b2f-6bf3-8004-2287689a9778'}}, metadata={'source': 'loop', 'step': 4, 'writes': {'Node2': {'lnode': 'node_2', 'count': 1}}}, created_at='2024-07-02T10:59:32.932094+00:00', parent_config={'configurable': {'thread_id': '2', 'thread_ts': '1ef38622-9b2d-613c-8003-d837cd37e2f5'}}) \n",
      "\n",
      "StateSnapshot(values={'lnode': 'node_1', 'scratch': 'hi', 'count': 3}, next=('Node2',), config={'configurable': {'thread_id': '2', 'thread_ts': '1ef38622-9b2d-613c-8003-d837cd37e2f5'}}, metadata={'source': 'loop', 'step': 3, 'writes': {'Node1': {'lnode': 'node_1', 'count': 1}}}, created_at='2024-07-02T10:59:32.931001+00:00', parent_config={'configurable': {'thread_id': '2', 'thread_ts': '1ef38622-9b28-631d-8002-99824c06ff7d'}}) \n",
      "\n",
      "StateSnapshot(values={'lnode': 'node_2', 'scratch': 'hi', 'count': 2}, next=('Node1',), config={'configurable': {'thread_id': '2', 'thread_ts': '1ef38622-9b28-631d-8002-99824c06ff7d'}}, metadata={'source': 'loop', 'step': 2, 'writes': {'Node2': {'lnode': 'node_2', 'count': 1}}}, created_at='2024-07-02T10:59:32.929001+00:00', parent_config={'configurable': {'thread_id': '2', 'thread_ts': '1ef38622-9b23-6683-8001-48664d9518ca'}}) \n",
      "\n",
      "StateSnapshot(values={'lnode': 'node_1', 'scratch': 'hi', 'count': 1}, next=('Node2',), config={'configurable': {'thread_id': '2', 'thread_ts': '1ef38622-9b23-6683-8001-48664d9518ca'}}, metadata={'source': 'loop', 'step': 1, 'writes': {'Node1': {'lnode': 'node_1', 'count': 1}}}, created_at='2024-07-02T10:59:32.927040+00:00', parent_config={'configurable': {'thread_id': '2', 'thread_ts': '1ef38622-9b18-6a19-8000-8cf6e85e627e'}}) \n",
      "\n",
      "StateSnapshot(values={'scratch': 'hi', 'count': 0}, next=('Node1',), config={'configurable': {'thread_id': '2', 'thread_ts': '1ef38622-9b18-6a19-8000-8cf6e85e627e'}}, metadata={'source': 'loop', 'step': 0, 'writes': None}, created_at='2024-07-02T10:59:32.922626+00:00', parent_config={'configurable': {'thread_id': '2', 'thread_ts': '1ef38622-9b12-62f0-bfff-c7e55cb9187f'}}) \n",
      "\n",
      "StateSnapshot(values={'count': 0}, next=('__start__',), config={'configurable': {'thread_id': '2', 'thread_ts': '1ef38622-9b12-62f0-bfff-c7e55cb9187f'}}, metadata={'source': 'input', 'step': -1, 'writes': {'count': 0, 'scratch': 'hi'}}, created_at='2024-07-02T10:59:32.919985+00:00', parent_config=None) \n",
      "\n"
     ]
    }
   ],
   "source": [
    "for state in graph.get_state_history(thread2):\n",
    "    print(state,\"\\n\")"
   ]
  },
  {
   "cell_type": "markdown",
   "id": "a5ea1bba-cf12-4493-948b-08b300054742",
   "metadata": {},
   "source": [
    "Continue to experiment!"
   ]
  }
 ],
 "metadata": {
  "kernelspec": {
   "display_name": "Python 3 (ipykernel)",
   "language": "python",
   "name": "python3"
  },
  "language_info": {
   "codemirror_mode": {
    "name": "ipython",
    "version": 3
   },
   "file_extension": ".py",
   "mimetype": "text/x-python",
   "name": "python",
   "nbconvert_exporter": "python",
   "pygments_lexer": "ipython3",
   "version": "3.12.3"
  }
 },
 "nbformat": 4,
 "nbformat_minor": 5
}
