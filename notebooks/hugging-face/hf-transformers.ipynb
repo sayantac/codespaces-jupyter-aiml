{
 "cells": [
  {
   "cell_type": "markdown",
   "id": "7cebe639-49a1-433f-81b1-57dd7368a27c",
   "metadata": {},
   "source": [
    "# Cracking Open the Hugging Face Transformers Library"
   ]
  },
  {
   "cell_type": "markdown",
   "id": "a30e96a3-dc5f-464f-9cfd-ee6e7134ae25",
   "metadata": {},
   "source": [
    "Setup"
   ]
  },
  {
   "cell_type": "code",
   "execution_count": 26,
   "id": "8b56599a-f141-4634-937d-b0a17cf07ccc",
   "metadata": {},
   "outputs": [],
   "source": [
    "from transformers import pipeline, Conversation\n",
    "import gradio as gr"
   ]
  },
  {
   "cell_type": "markdown",
   "id": "8632a39e-f1f2-4353-92c2-bed09d72e646",
   "metadata": {},
   "source": [
    "Sentiment Analysis"
   ]
  },
  {
   "cell_type": "code",
   "execution_count": 27,
   "id": "81273921-1442-4ee2-bd4a-23912f39d30b",
   "metadata": {},
   "outputs": [
    {
     "name": "stderr",
     "output_type": "stream",
     "text": [
      "No model was supplied, defaulted to distilbert-base-uncased-finetuned-sst-2-english and revision af0f99b (https://huggingface.co/distilbert-base-uncased-finetuned-sst-2-english).\n",
      "Using a pipeline without specifying a model name and revision in production is not recommended.\n"
     ]
    },
    {
     "data": {
      "text/plain": [
       "[{'label': 'POSITIVE', 'score': 0.9998745918273926}]"
      ]
     },
     "execution_count": 27,
     "metadata": {},
     "output_type": "execute_result"
    }
   ],
   "source": [
    "# toy example 1\n",
    "pipeline(task=\"sentiment-analysis\")(\"Love this!\")"
   ]
  },
  {
   "cell_type": "code",
   "execution_count": 28,
   "id": "4d0fcb11-9d3d-42ed-a1fe-5ffc9d5f5678",
   "metadata": {},
   "outputs": [
    {
     "data": {
      "text/plain": [
       "[{'label': 'POSITIVE', 'score': 0.9998745918273926}]"
      ]
     },
     "execution_count": 28,
     "metadata": {},
     "output_type": "execute_result"
    }
   ],
   "source": [
    "# toy example 2\n",
    "pipeline(task=\"sentiment-analysis\", model=\"distilbert-base-uncased-finetuned-sst-2-english\")(\"Love this!\")"
   ]
  },
  {
   "cell_type": "markdown",
   "id": "0709ebd2-d560-4d86-9901-7957a2df1bfc",
   "metadata": {},
   "source": [
    "More Sentiment Analysis"
   ]
  },
  {
   "cell_type": "code",
   "execution_count": 29,
   "id": "a0087034-3a49-4251-89e7-652f5c0c22f2",
   "metadata": {},
   "outputs": [],
   "source": [
    "# defining classifier\n",
    "classifier = pipeline(task=\"sentiment-analysis\", model=\"distilbert-base-uncased-finetuned-sst-2-english\")"
   ]
  },
  {
   "cell_type": "code",
   "execution_count": 30,
   "id": "283827a1-91d5-4a44-a6f6-cd6fae6c3484",
   "metadata": {},
   "outputs": [
    {
     "data": {
      "text/plain": [
       "[{'label': 'NEGATIVE', 'score': 0.9997110962867737}]"
      ]
     },
     "execution_count": 30,
     "metadata": {},
     "output_type": "execute_result"
    }
   ],
   "source": [
    "classifier(\"Hate this.\")"
   ]
  },
  {
   "cell_type": "code",
   "execution_count": 31,
   "id": "e986a6f5-7c3b-473c-9096-3327815eb768",
   "metadata": {},
   "outputs": [
    {
     "data": {
      "text/plain": [
       "[{'label': 'POSITIVE', 'score': 0.9998785257339478},\n",
       " {'label': 'POSITIVE', 'score': 0.9680057168006897},\n",
       " {'label': 'NEGATIVE', 'score': 0.8776107430458069},\n",
       " {'label': 'POSITIVE', 'score': 0.9998120665550232}]"
      ]
     },
     "execution_count": 31,
     "metadata": {},
     "output_type": "execute_result"
    }
   ],
   "source": [
    "# we can also pass in a list to classifier\n",
    "text_list = [\"This is great\", \\\n",
    "             \"Thanks for nothing\", \\\n",
    "             \"You've got to work on your face\", \\\n",
    "             \"You're beautiful, never change!\"]\n",
    "\n",
    "classifier(text_list)"
   ]
  },
  {
   "cell_type": "code",
   "execution_count": 32,
   "id": "162fcc0d-cd21-43d2-93fa-f50386f327d9",
   "metadata": {},
   "outputs": [],
   "source": [
    "# if there are multiple target labels, we can return them all\n",
    "classifier = pipeline(task=\"text-classification\", model=\"SamLowe/roberta-base-go_emotions\", top_k=None)"
   ]
  },
  {
   "cell_type": "code",
   "execution_count": 33,
   "id": "6035bb89-4fe9-470c-b201-4e43f91b36f0",
   "metadata": {},
   "outputs": [
    {
     "data": {
      "text/plain": [
       "[[{'label': 'admiration', 'score': 0.9526104927062988},\n",
       "  {'label': 'approval', 'score': 0.03047209605574608},\n",
       "  {'label': 'neutral', 'score': 0.015236238949000835},\n",
       "  {'label': 'excitement', 'score': 0.006063771899789572},\n",
       "  {'label': 'gratitude', 'score': 0.005296194460242987},\n",
       "  {'label': 'joy', 'score': 0.004475211258977652},\n",
       "  {'label': 'curiosity', 'score': 0.004322331864386797},\n",
       "  {'label': 'realization', 'score': 0.0040895999409258366},\n",
       "  {'label': 'optimism', 'score': 0.00407722033560276},\n",
       "  {'label': 'disapproval', 'score': 0.004076569341123104},\n",
       "  {'label': 'annoyance', 'score': 0.0035287411883473396},\n",
       "  {'label': 'surprise', 'score': 0.0029730673413723707},\n",
       "  {'label': 'disappointment', 'score': 0.002734639449045062},\n",
       "  {'label': 'love', 'score': 0.00269458070397377},\n",
       "  {'label': 'amusement', 'score': 0.0024867451284080744},\n",
       "  {'label': 'confusion', 'score': 0.002360743237659335},\n",
       "  {'label': 'pride', 'score': 0.0021013403311371803},\n",
       "  {'label': 'sadness', 'score': 0.0017730556428432465},\n",
       "  {'label': 'anger', 'score': 0.0017196913249790668},\n",
       "  {'label': 'caring', 'score': 0.0013670086627826095},\n",
       "  {'label': 'desire', 'score': 0.001047872588969767},\n",
       "  {'label': 'disgust', 'score': 0.0009689946309663355},\n",
       "  {'label': 'fear', 'score': 0.0005249782698228955},\n",
       "  {'label': 'relief', 'score': 0.00048621182213537395},\n",
       "  {'label': 'embarrassment', 'score': 0.00034175071050412953},\n",
       "  {'label': 'grief', 'score': 0.00033891937346197665},\n",
       "  {'label': 'remorse', 'score': 0.0002780948707368225},\n",
       "  {'label': 'nervousness', 'score': 0.00020788447000086308}]]"
      ]
     },
     "execution_count": 33,
     "metadata": {},
     "output_type": "execute_result"
    }
   ],
   "source": [
    "classifier(text_list[0])"
   ]
  },
  {
   "cell_type": "markdown",
   "id": "fa610a53-7757-4106-8e1d-5534710ca913",
   "metadata": {},
   "source": [
    "Summarization"
   ]
  },
  {
   "cell_type": "code",
   "execution_count": 34,
   "id": "9f0c999a-9c74-4d11-87ab-e4cbe6574f70",
   "metadata": {},
   "outputs": [],
   "source": [
    "summarizer = pipeline(\"summarization\", model=\"facebook/bart-large-cnn\")"
   ]
  },
  {
   "cell_type": "code",
   "execution_count": 35,
   "id": "cf491272-d3c8-477a-ab1e-ec475c720cca",
   "metadata": {},
   "outputs": [
    {
     "data": {
      "text/plain": [
       "'Hugging Face is an AI company that has become a major hub for open-source machine learning. They have 3 major elements which allow users to access and share machine learning resources.'"
      ]
     },
     "execution_count": 35,
     "metadata": {},
     "output_type": "execute_result"
    }
   ],
   "source": [
    "text = \"\"\"\n",
    "Hugging Face is an AI company that has become a major hub for open-source machine learning. \n",
    "Their platform has 3 major elements which allow users to access and share machine learning resources. \n",
    "First, is their rapidly growing repository of pre-trained open-source machine learning models for things such as natural language processing (NLP), computer vision, and more. \n",
    "Second, is their library of datasets for training machine learning models for almost any task. \n",
    "Third, and finally, is Spaces which is a collection of open-source ML apps.\n",
    "\n",
    "The power of these resources is that they are community generated, which leverages all the benefits of open source i.e. cost-free, wide diversity of tools, high quality resources, and rapid pace of innovation. \n",
    "While these make building powerful ML projects more accessible than before, there is another key element of the Hugging Face ecosystem—their Transformers library.\n",
    "\"\"\"\n",
    "summarized_text = summarizer(text, min_length=5, max_length=140)[0]['summary_text']\n",
    "summarized_text"
   ]
  },
  {
   "cell_type": "code",
   "execution_count": 36,
   "id": "4386feb5-8ade-463b-8cfd-7c9d6864c717",
   "metadata": {},
   "outputs": [
    {
     "data": {
      "text/plain": [
       "[[{'label': 'neutral', 'score': 0.9101783633232117},\n",
       "  {'label': 'approval', 'score': 0.08781367540359497},\n",
       "  {'label': 'realization', 'score': 0.023256294429302216},\n",
       "  {'label': 'annoyance', 'score': 0.006623796187341213},\n",
       "  {'label': 'admiration', 'score': 0.004981078673154116},\n",
       "  {'label': 'disapproval', 'score': 0.004730122163891792},\n",
       "  {'label': 'optimism', 'score': 0.0033590728417038918},\n",
       "  {'label': 'disappointment', 'score': 0.0026190034113824368},\n",
       "  {'label': 'confusion', 'score': 0.0019539783243089914},\n",
       "  {'label': 'excitement', 'score': 0.0012417081743478775},\n",
       "  {'label': 'disgust', 'score': 0.0011407802812755108},\n",
       "  {'label': 'joy', 'score': 0.0010540130315348506},\n",
       "  {'label': 'amusement', 'score': 0.0009572383714839816},\n",
       "  {'label': 'love', 'score': 0.0008871073368936777},\n",
       "  {'label': 'desire', 'score': 0.0008553274674341083},\n",
       "  {'label': 'curiosity', 'score': 0.0008261064067482948},\n",
       "  {'label': 'anger', 'score': 0.0007336385897360742},\n",
       "  {'label': 'caring', 'score': 0.0006971126422286034},\n",
       "  {'label': 'sadness', 'score': 0.0006702454411424696},\n",
       "  {'label': 'gratitude', 'score': 0.0006645717658102512},\n",
       "  {'label': 'surprise', 'score': 0.0005773778539150953},\n",
       "  {'label': 'relief', 'score': 0.0004789051308762282},\n",
       "  {'label': 'fear', 'score': 0.00045125087490305305},\n",
       "  {'label': 'pride', 'score': 0.00035174324875697494},\n",
       "  {'label': 'embarrassment', 'score': 0.0003261527162976563},\n",
       "  {'label': 'remorse', 'score': 0.0001947579876286909},\n",
       "  {'label': 'nervousness', 'score': 0.00018521495803724974},\n",
       "  {'label': 'grief', 'score': 0.00016037889872677624}]]"
      ]
     },
     "execution_count": 36,
     "metadata": {},
     "output_type": "execute_result"
    }
   ],
   "source": [
    "classifier(summarized_text)"
   ]
  },
  {
   "cell_type": "markdown",
   "id": "fb8df69d-dbc7-4537-8362-e0285b09258c",
   "metadata": {},
   "source": [
    "Conversational"
   ]
  },
  {
   "cell_type": "code",
   "execution_count": 37,
   "id": "dffd765f-7bf4-4fb3-8b48-d23d59d6cb11",
   "metadata": {},
   "outputs": [],
   "source": [
    "chatbot = pipeline(\"conversational\", model=\"facebook/blenderbot-400M-distill\")"
   ]
  },
  {
   "cell_type": "code",
   "execution_count": 38,
   "id": "044bd510-1370-49cd-8365-2f315e3711a6",
   "metadata": {},
   "outputs": [],
   "source": [
    "conversation = Conversation(\"Hi I'm Shaw, how are you?\")\n",
    "conversation = chatbot(conversation)"
   ]
  },
  {
   "cell_type": "code",
   "execution_count": 39,
   "id": "d85a460a-e9db-489c-960d-74fb50c018e9",
   "metadata": {},
   "outputs": [
    {
     "data": {
      "text/plain": [
       "Conversation id: d6ab5e13-1a09-463b-858e-ce5e21b6b9d4\n",
       "user: Hi I'm Shaw, how are you?\n",
       "assistant:  I'm doing well. How are you doing this evening? I just got home from work."
      ]
     },
     "execution_count": 39,
     "metadata": {},
     "output_type": "execute_result"
    }
   ],
   "source": [
    "conversation"
   ]
  },
  {
   "cell_type": "code",
   "execution_count": 40,
   "id": "b3a77774-115e-445b-af31-51a19d7c363a",
   "metadata": {},
   "outputs": [],
   "source": [
    "conversation.add_user_input(\"Where do you work?\")\n",
    "conversation = chatbot(conversation)"
   ]
  },
  {
   "cell_type": "code",
   "execution_count": 41,
   "id": "0178fc0e-1663-4750-8c24-b4c3a19d4997",
   "metadata": {},
   "outputs": [
    {
     "data": {
      "text/plain": [
       "Conversation id: d6ab5e13-1a09-463b-858e-ce5e21b6b9d4\n",
       "user: Hi I'm Shaw, how are you?\n",
       "assistant:  I'm doing well. How are you doing this evening? I just got home from work.\n",
       "user: Where do you work?\n",
       "assistant:  I work at a grocery store. What about you? What do you do for a living?"
      ]
     },
     "execution_count": 41,
     "metadata": {},
     "output_type": "execute_result"
    }
   ],
   "source": [
    "conversation"
   ]
  },
  {
   "cell_type": "markdown",
   "id": "b550680d-6709-468f-b9bc-8a37a502e940",
   "metadata": {},
   "source": [
    "Deploy Chatbot UI"
   ]
  },
  {
   "cell_type": "markdown",
   "id": "7cdcd62d-47b7-4934-aa4e-d06ab7b0f936",
   "metadata": {},
   "source": [
    "Text Sentiment Chatbot"
   ]
  },
  {
   "cell_type": "code",
   "execution_count": 42,
   "id": "2be7caa0-1030-46db-9b0d-f3563b7fab71",
   "metadata": {},
   "outputs": [
    {
     "name": "stdout",
     "output_type": "stream",
     "text": [
      "Running on local URL:  http://127.0.0.1:7863\n",
      "\n",
      "To create a public link, set `share=True` in `launch()`.\n"
     ]
    },
    {
     "data": {
      "text/html": [
       "<div><iframe src=\"http://127.0.0.1:7863/\" width=\"100%\" height=\"500\" allow=\"autoplay; camera; microphone; clipboard-read; clipboard-write;\" frameborder=\"0\" allowfullscreen></iframe></div>"
      ],
      "text/plain": [
       "<IPython.core.display.HTML object>"
      ]
     },
     "metadata": {},
     "output_type": "display_data"
    },
    {
     "data": {
      "text/plain": []
     },
     "execution_count": 42,
     "metadata": {},
     "output_type": "execute_result"
    }
   ],
   "source": [
    "def top3_text_classes(message, history):\n",
    "    return str(classifier(message)[0][:3]).replace('}, {', '\\n').replace('[{', '').replace('}]', '')\n",
    "\n",
    "demo_sentiment = gr.ChatInterface(top3_text_classes, title=\"Text Sentiment Chatbot\", description=\"Enter your text, and the chatbot will classify the sentiment.\")\n",
    "\n",
    "demo_sentiment.launch()"
   ]
  },
  {
   "cell_type": "markdown",
   "id": "3af1b0c4-2c16-454e-8e71-76ccd6988b33",
   "metadata": {},
   "source": [
    "Summarizer Chatbot"
   ]
  },
  {
   "cell_type": "code",
   "execution_count": 43,
   "id": "fe2285eb-a33f-4278-95e5-52cc1aea965b",
   "metadata": {},
   "outputs": [
    {
     "name": "stdout",
     "output_type": "stream",
     "text": [
      "Running on local URL:  http://127.0.0.1:7864\n",
      "\n",
      "To create a public link, set `share=True` in `launch()`.\n"
     ]
    },
    {
     "data": {
      "text/html": [
       "<div><iframe src=\"http://127.0.0.1:7864/\" width=\"100%\" height=\"500\" allow=\"autoplay; camera; microphone; clipboard-read; clipboard-write;\" frameborder=\"0\" allowfullscreen></iframe></div>"
      ],
      "text/plain": [
       "<IPython.core.display.HTML object>"
      ]
     },
     "metadata": {},
     "output_type": "display_data"
    },
    {
     "data": {
      "text/plain": []
     },
     "execution_count": 43,
     "metadata": {},
     "output_type": "execute_result"
    }
   ],
   "source": [
    "def summarizer_bot(message, history):\n",
    "    return summarizer(message, min_length=5, max_length=140)[0]['summary_text']\n",
    "\n",
    "demo_summarizer = gr.ChatInterface(summarizer_bot, title=\"Summarizer Chatbot\", description=\"Enter your text, and the chatbot will return the summarized version.\")\n",
    "\n",
    "demo_summarizer.launch()"
   ]
  },
  {
   "cell_type": "markdown",
   "id": "f7cebd9c-5d84-4c6c-b368-3fa0a4f951cc",
   "metadata": {},
   "source": [
    "Vanilla Chatbot"
   ]
  },
  {
   "cell_type": "code",
   "execution_count": 44,
   "id": "0979adf7-90ba-441d-a063-cb89d6223c64",
   "metadata": {},
   "outputs": [
    {
     "name": "stdout",
     "output_type": "stream",
     "text": [
      "Running on local URL:  http://127.0.0.1:7865\n",
      "\n",
      "To create a public link, set `share=True` in `launch()`.\n"
     ]
    },
    {
     "data": {
      "text/html": [
       "<div><iframe src=\"http://127.0.0.1:7865/\" width=\"100%\" height=\"500\" allow=\"autoplay; camera; microphone; clipboard-read; clipboard-write;\" frameborder=\"0\" allowfullscreen></iframe></div>"
      ],
      "text/plain": [
       "<IPython.core.display.HTML object>"
      ]
     },
     "metadata": {},
     "output_type": "display_data"
    },
    {
     "data": {
      "text/plain": []
     },
     "execution_count": 44,
     "metadata": {},
     "output_type": "execute_result"
    }
   ],
   "source": [
    "message_list = []\n",
    "response_list = []\n",
    "\n",
    "def vanilla_chatbot(message, history):\n",
    "    conversation = Conversation(text=message, past_user_inputs=message_list, generated_responses=response_list)\n",
    "    conversation = chatbot(conversation)\n",
    "\n",
    "    return conversation.generated_responses[-1]\n",
    "\n",
    "demo_chatbot = gr.ChatInterface(vanilla_chatbot, title=\"Vanilla Chatbot\", description=\"Enter text to start chatting.\")\n",
    "\n",
    "demo_chatbot.launch()"
   ]
  }
 ],
 "metadata": {
  "kernelspec": {
   "display_name": "Python 3 (ipykernel)",
   "language": "python",
   "name": "python3"
  },
  "language_info": {
   "codemirror_mode": {
    "name": "ipython",
    "version": 3
   },
   "file_extension": ".py",
   "mimetype": "text/x-python",
   "name": "python",
   "nbconvert_exporter": "python",
   "pygments_lexer": "ipython3",
   "version": "3.10.13"
  }
 },
 "nbformat": 4,
 "nbformat_minor": 5
}
